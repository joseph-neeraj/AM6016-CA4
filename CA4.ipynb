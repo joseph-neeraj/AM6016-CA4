{
 "cells": [
  {
   "cell_type": "code",
   "execution_count": 37,
   "metadata": {},
   "outputs": [
    {
     "name": "stdout",
     "output_type": "stream",
     "text": [
      "1.12.0\n",
      "2.1.6-tf\n"
     ]
    }
   ],
   "source": [
    "# execute this cell before you start\n",
    "\n",
    "import tensorflow as tf\n",
    "from tensorflow.keras import layers\n",
    "\n",
    "# Helper libraries\n",
    "import numpy as np\n",
    "import matplotlib.pyplot as plt\n",
    "from tensorflow import keras\n",
    "\n",
    "print(tf.VERSION)\n",
    "print(tf.keras.__version__)\n"
   ]
  },
  {
   "cell_type": "markdown",
   "metadata": {},
   "source": [
    "#  CA4\n",
    "## due on 02/04/2019\n",
    "\n",
    "to submit the assignment, please do the following:\n",
    "\n",
    "- do `Cell -> All output -> Clear` to clear all your output\n",
    "- save the notebook (CA3.ipynb)"
   ]
  },
  {
   "cell_type": "markdown",
   "metadata": {},
   "source": [
    "# The Boston Housing Data\n",
    "\n",
    "Consider the data in  `keras.datasets.boston_housing`. In this case, there are only about 400 training datasets, where each dataset consists of 13 input values which are characteristic for a given property. The output corresponds to the property price. The meaning of the various columns is explained in https://www.kaggle.com/c/boston-housing.\n",
    "\n",
    "In contrast to the previous examples, which were categorisation problems, this is now a regression problem. The challenge is to train a network, which is able to predict the price of the property. \n",
    "\n",
    "You will again find lots of examples on the internet, and it is okay to use inspiration as long as you provide the source. \n",
    "\n",
    "Adhere to the following rules:\n",
    "\n",
    "- Train the network on the logarithm of the price, not on the price itself. Explain why this makes sense. \n",
    "- You will find many examples, which use `sci-kit learn` or other packages, which we did not do in the course. Do not use them, and restrict yourself to methods and libraries which we covered\n",
    "- Try to find a network, which has the smallest amount of trainable parameters, while still providing good predictions of the price.  Discuss, how small you can go. \n",
    "- Once you have trained the network, explore the correlations which this network predicts:\n",
    "    - Which inputs have a positive price correlation? \n",
    "    - Which inputs have a negative price correlation? \n",
    "    - Which inputs have little/no influence on the price?\n",
    "    \n",
    "  Investigate this by feeding into the network some artificial data, which you obtain from the testing data by varying one of the input columns.\n",
    "  \n",
    "  \n",
    "Optional challenge (no extra points but extra insight!):\n",
    "\n",
    "Compare the results with standard regression methods, for example as in ST4060/ST4061 in case you have covered them. \n",
    "\n"
   ]
  },
  {
   "cell_type": "code",
   "execution_count": 38,
   "metadata": {
    "deletable": false,
    "nbgrader": {
     "checksum": "c11fa0c01e83508e2b3055f97bb94ad2",
     "grade": true,
     "grade_id": "cell-62578aed3a4137c9",
     "locked": false,
     "points": 10,
     "schema_version": 1,
     "solution": true
    }
   },
   "outputs": [],
   "source": [
    "(train_x, train_y), (test_x, test_y) = keras.datasets.boston_housing.load_data()\n",
    "log_train_y = np.log(train_y)\n",
    "log_test_y = np.log(test_y)\n",
    "\n",
    "# from https://www.cs.toronto.edu/~delve/data/boston/bostonDetail.html\n",
    "var_names = ['CRIM', 'ZN', 'INDUS', 'CHAS', 'NOX', 'RM', 'AGE',\n",
    "             'DIS', 'RAD', 'TAX', 'PTRATIO', 'BLACK', 'LSTAT', 'MEDV']"
   ]
  },
  {
   "cell_type": "markdown",
   "metadata": {},
   "source": [
    "Method to print first n entries in the training data"
   ]
  },
  {
   "cell_type": "code",
   "execution_count": null,
   "metadata": {},
   "outputs": [],
   "source": [
    "def printFirstN(n):\n",
    "    print((\"{:8}\"*len(var_names)).format(*var_names))\n",
    "    for i in range(10):\n",
    "        print((\"{:<8.4}\"*len(train_x[i])).format(*train_x[i]),\n",
    "         \"{:<8.3}\".format(train_y[i]))"
   ]
  },
  {
   "cell_type": "code",
   "execution_count": 39,
   "metadata": {},
   "outputs": [
    {
     "name": "stdout",
     "output_type": "stream",
     "text": [
      "Train X shape (404, 13)\n",
      "Train Y shape (404,)\n",
      "Test X shape (102, 13)\n",
      "Train Y shape (102,)\n",
      "\n",
      "CRIM    ZN      INDUS   CHAS    NOX     RM      AGE     DIS     RAD     TAX     PTRATIO BLACK   LSTAT   MEDV    \n",
      "1.232   0.0     8.14    0.0     0.538   6.142   91.7    3.977   4.0     307.0   21.0    396.9   18.72    15.2    \n",
      "0.02177 82.5    2.03    0.0     0.415   7.61    15.7    6.27    2.0     348.0   14.7    395.4   3.11     42.3    \n",
      "4.898   0.0     18.1    0.0     0.631   4.97    100.0   1.333   24.0    666.0   20.2    375.5   3.26     50.0    \n",
      "0.03961 0.0     5.19    0.0     0.515   6.037   34.5    5.985   5.0     224.0   20.2    396.9   8.01     21.1    \n",
      "3.693   0.0     18.1    0.0     0.713   6.376   88.4    2.567   24.0    666.0   20.2    391.4   14.65    17.7    \n",
      "0.2839  0.0     7.38    0.0     0.493   5.708   74.3    4.721   5.0     287.0   19.6    391.1   11.74    18.5    \n",
      "9.187   0.0     18.1    0.0     0.7     5.536   100.0   1.58    24.0    666.0   20.2    396.9   23.6     11.3    \n",
      "4.097   0.0     19.58   0.0     0.871   5.468   100.0   1.412   5.0     403.0   14.7    396.9   26.42    15.6    \n",
      "2.155   0.0     19.58   0.0     0.871   5.628   100.0   1.517   5.0     403.0   14.7    169.3   16.65    15.6    \n",
      "1.629   0.0     21.89   0.0     0.624   5.019   100.0   1.439   4.0     437.0   21.2    396.9   34.41    14.4    \n"
     ]
    }
   ],
   "source": [
    "#Explore the data\n",
    "print('Train X shape', train_x.shape)\n",
    "print('Train Y shape', train_y.shape)\n",
    "print('Test X shape', test_x.shape)\n",
    "print('Train Y shape', test_y.shape)\n",
    "print()\n",
    "\n",
    "#inspect a few elements to get an idea of the data\n",
    "\n",
    "printFirstN(10)\n",
    "\n",
    "    "
   ]
  },
  {
   "cell_type": "markdown",
   "metadata": {},
   "source": [
    "It looks like the values of each predictor are very different in scale when compared to each other.\n",
    "This may lead to difficulties in building a good enough model.\n",
    "Hence scale them uniformly."
   ]
  },
  {
   "cell_type": "code",
   "execution_count": 40,
   "metadata": {},
   "outputs": [],
   "source": [
    "train_x = (train_x - train_x.min(axis=0)) / (train_x.max(axis=0) - train_x.min(axis=0))\n",
    "test_x = (test_x - test_x.min(axis=0)) / (test_x.max(axis=0) - test_x.min(axis=0))"
   ]
  },
  {
   "cell_type": "code",
   "execution_count": 41,
   "metadata": {},
   "outputs": [
    {
     "name": "stdout",
     "output_type": "stream",
     "text": [
      "CRIM    ZN      INDUS   CHAS    NOX     RM      AGE     DIS     RAD     TAX     PTRATIO BLACK   LSTAT   MEDV    \n",
      "0.01378 0.0     0.2815  0.0     0.3148  0.4998  0.9145  0.2972  0.1304  0.2275  0.8936  1.0     0.4688   15.2    \n",
      "0.00017370.825   0.05755 0.0     0.06173 0.7841  0.1318  0.5365  0.04348 0.3059  0.2234  0.9962  0.03808  42.3    \n",
      "0.05498 0.0     0.6466  0.0     0.5062  0.2729  1.0     0.02118 1.0     0.914   0.8085  0.9461  0.04222  50.0    \n",
      "0.00037420.0     0.1734  0.0     0.2675  0.4795  0.3254  0.5068  0.1739  0.06883 0.8085  1.0     0.1733   21.1    \n",
      "0.04144 0.0     0.6466  0.0     0.6749  0.5451  0.8805  0.15    1.0     0.914   0.8085  0.9862  0.3565   17.7    \n",
      "0.00312 0.0     0.2537  0.0     0.2222  0.4158  0.7353  0.3749  0.1739  0.1893  0.7447  0.9855  0.2762   18.5    \n",
      "0.1032  0.0     0.6466  0.0     0.6481  0.3825  1.0     0.04705 1.0     0.914   0.8085  1.0     0.6035   11.3    \n",
      "0.04598 0.0     0.7009  0.0     1.0     0.3693  1.0     0.02946 0.1739  0.4111  0.2234  1.0     0.6813   15.6    \n",
      "0.02415 0.0     0.7009  0.0     1.0     0.4003  1.0     0.04039 0.1739  0.4111  0.2234  0.426   0.4117   15.6    \n",
      "0.01823 0.0     0.7856  0.0     0.4918  0.2823  1.0     0.03234 0.1304  0.4761  0.9149  1.0     0.9018   14.4    \n"
     ]
    }
   ],
   "source": [
    "printFirstN(10)"
   ]
  },
  {
   "cell_type": "code",
   "execution_count": 42,
   "metadata": {},
   "outputs": [],
   "source": [
    "# mean = train_x.mean(axis=0)\n",
    "# train_x = train_x - mean\n",
    "# std = train_x.std(axis=0)\n",
    "# train_x = train_x/std\n",
    "\n",
    "# test_x = test_x-mean\n",
    "# test_x = test_x/std"
   ]
  },
  {
   "cell_type": "code",
   "execution_count": 43,
   "metadata": {},
   "outputs": [
    {
     "name": "stdout",
     "output_type": "stream",
     "text": [
      "Epoch 1/100\n",
      "404/404 [==============================] - 1s 1ms/step - loss: 139.6545 - mean_absolute_error: 8.1735\n",
      "Epoch 2/100\n",
      "404/404 [==============================] - 0s 864us/step - loss: 39.9601 - mean_absolute_error: 4.3182\n",
      "Epoch 3/100\n",
      "404/404 [==============================] - 0s 781us/step - loss: 26.9119 - mean_absolute_error: 3.6592\n",
      "Epoch 4/100\n",
      "404/404 [==============================] - 0s 809us/step - loss: 23.8190 - mean_absolute_error: 3.3822\n",
      "Epoch 5/100\n",
      "404/404 [==============================] - 0s 796us/step - loss: 20.5363 - mean_absolute_error: 3.1774\n",
      "Epoch 6/100\n",
      "404/404 [==============================] - 0s 801us/step - loss: 19.5024 - mean_absolute_error: 3.1044\n",
      "Epoch 7/100\n",
      "404/404 [==============================] - 0s 807us/step - loss: 17.6991 - mean_absolute_error: 3.0276\n",
      "Epoch 8/100\n",
      "404/404 [==============================] - 0s 814us/step - loss: 16.9792 - mean_absolute_error: 2.9201\n",
      "Epoch 9/100\n",
      "404/404 [==============================] - 0s 777us/step - loss: 15.2220 - mean_absolute_error: 2.7349\n",
      "Epoch 10/100\n",
      "404/404 [==============================] - 0s 825us/step - loss: 14.9105 - mean_absolute_error: 2.6949\n",
      "Epoch 11/100\n",
      "404/404 [==============================] - 0s 789us/step - loss: 14.0496 - mean_absolute_error: 2.6419\n",
      "Epoch 12/100\n",
      "404/404 [==============================] - 0s 772us/step - loss: 13.2427 - mean_absolute_error: 2.4977\n",
      "Epoch 13/100\n",
      "404/404 [==============================] - 0s 803us/step - loss: 12.2960 - mean_absolute_error: 2.4415\n",
      "Epoch 14/100\n",
      "404/404 [==============================] - 0s 793us/step - loss: 11.8098 - mean_absolute_error: 2.4270\n",
      "Epoch 15/100\n",
      "404/404 [==============================] - 0s 806us/step - loss: 11.0655 - mean_absolute_error: 2.4668\n",
      "Epoch 16/100\n",
      "404/404 [==============================] - 0s 862us/step - loss: 10.4928 - mean_absolute_error: 2.3398\n",
      "Epoch 17/100\n",
      "404/404 [==============================] - 0s 790us/step - loss: 11.1043 - mean_absolute_error: 2.3212\n",
      "Epoch 18/100\n",
      "404/404 [==============================] - 0s 826us/step - loss: 9.8402 - mean_absolute_error: 2.2934\n",
      "Epoch 19/100\n",
      "404/404 [==============================] - 0s 1ms/step - loss: 11.1071 - mean_absolute_error: 2.3930\n",
      "Epoch 20/100\n",
      "404/404 [==============================] - 0s 954us/step - loss: 9.6853 - mean_absolute_error: 2.2045\n",
      "Epoch 21/100\n",
      "404/404 [==============================] - 0s 993us/step - loss: 9.9450 - mean_absolute_error: 2.3361\n",
      "Epoch 22/100\n",
      "404/404 [==============================] - 0s 1ms/step - loss: 9.4573 - mean_absolute_error: 2.2267\n",
      "Epoch 23/100\n",
      "404/404 [==============================] - 0s 819us/step - loss: 9.9201 - mean_absolute_error: 2.3139\n",
      "Epoch 24/100\n",
      "404/404 [==============================] - 0s 875us/step - loss: 10.3256 - mean_absolute_error: 2.3703\n",
      "Epoch 25/100\n",
      "404/404 [==============================] - 0s 794us/step - loss: 9.7332 - mean_absolute_error: 2.2199\n",
      "Epoch 26/100\n",
      "404/404 [==============================] - 0s 814us/step - loss: 9.4721 - mean_absolute_error: 2.1648\n",
      "Epoch 27/100\n",
      "404/404 [==============================] - 0s 877us/step - loss: 8.8813 - mean_absolute_error: 2.1489\n",
      "Epoch 28/100\n",
      "404/404 [==============================] - 0s 963us/step - loss: 8.2721 - mean_absolute_error: 2.1224\n",
      "Epoch 29/100\n",
      "404/404 [==============================] - 0s 899us/step - loss: 9.0594 - mean_absolute_error: 2.1930\n",
      "Epoch 30/100\n",
      "404/404 [==============================] - 0s 897us/step - loss: 8.8073 - mean_absolute_error: 2.1366\n",
      "Epoch 31/100\n",
      "404/404 [==============================] - 0s 887us/step - loss: 9.1263 - mean_absolute_error: 2.2127\n",
      "Epoch 32/100\n",
      "404/404 [==============================] - 0s 851us/step - loss: 8.0950 - mean_absolute_error: 2.0484\n",
      "Epoch 33/100\n",
      "404/404 [==============================] - 0s 969us/step - loss: 8.5151 - mean_absolute_error: 2.1190\n",
      "Epoch 34/100\n",
      "404/404 [==============================] - 0s 1ms/step - loss: 8.9488 - mean_absolute_error: 2.1323\n",
      "Epoch 35/100\n",
      "404/404 [==============================] - 0s 1ms/step - loss: 8.8124 - mean_absolute_error: 2.1427\n",
      "Epoch 36/100\n",
      "404/404 [==============================] - 0s 816us/step - loss: 7.4766 - mean_absolute_error: 1.9797\n",
      "Epoch 37/100\n",
      "404/404 [==============================] - 0s 805us/step - loss: 9.2125 - mean_absolute_error: 2.2030\n",
      "Epoch 38/100\n",
      "404/404 [==============================] - 0s 852us/step - loss: 7.9154 - mean_absolute_error: 2.0251\n",
      "Epoch 39/100\n",
      "404/404 [==============================] - 0s 822us/step - loss: 7.6855 - mean_absolute_error: 2.0465\n",
      "Epoch 40/100\n",
      "404/404 [==============================] - 0s 808us/step - loss: 7.1046 - mean_absolute_error: 1.9810\n",
      "Epoch 41/100\n",
      "404/404 [==============================] - 0s 871us/step - loss: 7.8640 - mean_absolute_error: 1.9571\n",
      "Epoch 42/100\n",
      "404/404 [==============================] - 1s 1ms/step - loss: 7.5816 - mean_absolute_error: 2.0167\n",
      "Epoch 43/100\n",
      "404/404 [==============================] - 0s 1ms/step - loss: 7.1561 - mean_absolute_error: 1.9772\n",
      "Epoch 44/100\n",
      "404/404 [==============================] - 0s 1ms/step - loss: 7.2915 - mean_absolute_error: 1.9707\n",
      "Epoch 45/100\n",
      "404/404 [==============================] - 0s 1ms/step - loss: 7.3900 - mean_absolute_error: 1.9847\n",
      "Epoch 46/100\n",
      "404/404 [==============================] - 0s 977us/step - loss: 7.2065 - mean_absolute_error: 1.9188\n",
      "Epoch 47/100\n",
      "404/404 [==============================] - 0s 830us/step - loss: 7.3867 - mean_absolute_error: 1.9980\n",
      "Epoch 48/100\n",
      "404/404 [==============================] - 0s 887us/step - loss: 7.4743 - mean_absolute_error: 1.9531\n",
      "Epoch 49/100\n",
      "404/404 [==============================] - 0s 951us/step - loss: 7.2452 - mean_absolute_error: 1.9316\n",
      "Epoch 50/100\n",
      "404/404 [==============================] - 0s 933us/step - loss: 7.2140 - mean_absolute_error: 1.9303\n",
      "Epoch 51/100\n",
      "404/404 [==============================] - 0s 898us/step - loss: 6.6919 - mean_absolute_error: 1.8648\n",
      "Epoch 52/100\n",
      "404/404 [==============================] - 0s 868us/step - loss: 6.6948 - mean_absolute_error: 1.9364\n",
      "Epoch 53/100\n",
      "404/404 [==============================] - 0s 963us/step - loss: 7.5720 - mean_absolute_error: 1.9990\n",
      "Epoch 54/100\n",
      "404/404 [==============================] - 0s 925us/step - loss: 6.6756 - mean_absolute_error: 1.8505\n",
      "Epoch 55/100\n",
      "404/404 [==============================] - 0s 883us/step - loss: 6.7709 - mean_absolute_error: 1.9559\n",
      "Epoch 56/100\n",
      "404/404 [==============================] - 0s 870us/step - loss: 6.4964 - mean_absolute_error: 1.8644\n",
      "Epoch 57/100\n",
      "404/404 [==============================] - 0s 838us/step - loss: 6.7027 - mean_absolute_error: 1.9144\n",
      "Epoch 58/100\n",
      "404/404 [==============================] - 0s 840us/step - loss: 6.1159 - mean_absolute_error: 1.8400\n",
      "Epoch 59/100\n",
      "404/404 [==============================] - 0s 831us/step - loss: 6.8657 - mean_absolute_error: 1.8593\n",
      "Epoch 60/100\n",
      "404/404 [==============================] - 0s 812us/step - loss: 6.4114 - mean_absolute_error: 1.8567\n",
      "Epoch 61/100\n",
      "404/404 [==============================] - 0s 820us/step - loss: 6.4230 - mean_absolute_error: 1.8364\n",
      "Epoch 62/100\n",
      "404/404 [==============================] - 0s 888us/step - loss: 6.5799 - mean_absolute_error: 1.8489\n",
      "Epoch 63/100\n",
      "404/404 [==============================] - 0s 940us/step - loss: 6.5601 - mean_absolute_error: 1.8841\n",
      "Epoch 64/100\n",
      "404/404 [==============================] - 0s 895us/step - loss: 6.2196 - mean_absolute_error: 1.8205\n",
      "Epoch 65/100\n",
      "404/404 [==============================] - 0s 977us/step - loss: 6.3242 - mean_absolute_error: 1.8229\n",
      "Epoch 66/100\n",
      "404/404 [==============================] - 0s 1ms/step - loss: 6.2213 - mean_absolute_error: 1.8485\n",
      "Epoch 67/100\n",
      "404/404 [==============================] - 0s 966us/step - loss: 5.7562 - mean_absolute_error: 1.7964\n",
      "Epoch 68/100\n",
      "404/404 [==============================] - 0s 950us/step - loss: 5.8631 - mean_absolute_error: 1.7674\n",
      "Epoch 69/100\n",
      "404/404 [==============================] - 0s 907us/step - loss: 5.7947 - mean_absolute_error: 1.7228\n",
      "Epoch 70/100\n",
      "404/404 [==============================] - 0s 846us/step - loss: 6.6551 - mean_absolute_error: 1.8524\n",
      "Epoch 71/100\n",
      "404/404 [==============================] - 0s 869us/step - loss: 6.5800 - mean_absolute_error: 1.8483\n",
      "Epoch 72/100\n"
     ]
    },
    {
     "name": "stdout",
     "output_type": "stream",
     "text": [
      "404/404 [==============================] - 0s 850us/step - loss: 5.4451 - mean_absolute_error: 1.6724\n",
      "Epoch 73/100\n",
      "404/404 [==============================] - 0s 773us/step - loss: 5.8933 - mean_absolute_error: 1.7186\n",
      "Epoch 74/100\n",
      "404/404 [==============================] - 0s 789us/step - loss: 5.4379 - mean_absolute_error: 1.6820\n",
      "Epoch 75/100\n",
      "404/404 [==============================] - 0s 800us/step - loss: 5.9948 - mean_absolute_error: 1.7385\n",
      "Epoch 76/100\n",
      "404/404 [==============================] - 0s 739us/step - loss: 5.3022 - mean_absolute_error: 1.6988\n",
      "Epoch 77/100\n",
      "404/404 [==============================] - 0s 781us/step - loss: 5.9018 - mean_absolute_error: 1.7091\n",
      "Epoch 78/100\n",
      "404/404 [==============================] - 0s 807us/step - loss: 4.9832 - mean_absolute_error: 1.6438\n",
      "Epoch 79/100\n",
      "404/404 [==============================] - 0s 819us/step - loss: 5.6275 - mean_absolute_error: 1.7015\n",
      "Epoch 80/100\n",
      "404/404 [==============================] - 0s 802us/step - loss: 5.3511 - mean_absolute_error: 1.6686\n",
      "Epoch 81/100\n",
      "404/404 [==============================] - 0s 767us/step - loss: 5.1496 - mean_absolute_error: 1.6274\n",
      "Epoch 82/100\n",
      "404/404 [==============================] - 0s 790us/step - loss: 5.3080 - mean_absolute_error: 1.6852\n",
      "Epoch 83/100\n",
      "404/404 [==============================] - 0s 784us/step - loss: 5.5158 - mean_absolute_error: 1.7175\n",
      "Epoch 84/100\n",
      "404/404 [==============================] - 0s 783us/step - loss: 5.2343 - mean_absolute_error: 1.6279\n",
      "Epoch 85/100\n",
      "404/404 [==============================] - 0s 779us/step - loss: 5.4328 - mean_absolute_error: 1.6669\n",
      "Epoch 86/100\n",
      "404/404 [==============================] - 0s 838us/step - loss: 5.0863 - mean_absolute_error: 1.6313\n",
      "Epoch 87/100\n",
      "404/404 [==============================] - 0s 1ms/step - loss: 5.1252 - mean_absolute_error: 1.6428\n",
      "Epoch 88/100\n",
      "404/404 [==============================] - 0s 1ms/step - loss: 5.3993 - mean_absolute_error: 1.6687\n",
      "Epoch 89/100\n",
      "404/404 [==============================] - 0s 882us/step - loss: 4.6765 - mean_absolute_error: 1.6115\n",
      "Epoch 90/100\n",
      "404/404 [==============================] - 0s 972us/step - loss: 4.7895 - mean_absolute_error: 1.5723\n",
      "Epoch 91/100\n",
      "404/404 [==============================] - 0s 896us/step - loss: 5.1098 - mean_absolute_error: 1.6307\n",
      "Epoch 92/100\n",
      "404/404 [==============================] - 0s 954us/step - loss: 4.8286 - mean_absolute_error: 1.6117\n",
      "Epoch 93/100\n",
      "404/404 [==============================] - 0s 849us/step - loss: 4.8460 - mean_absolute_error: 1.6086\n",
      "Epoch 94/100\n",
      "404/404 [==============================] - 0s 804us/step - loss: 4.9075 - mean_absolute_error: 1.6152\n",
      "Epoch 95/100\n",
      "404/404 [==============================] - 0s 817us/step - loss: 4.8700 - mean_absolute_error: 1.6073\n",
      "Epoch 96/100\n",
      "404/404 [==============================] - 0s 904us/step - loss: 4.7946 - mean_absolute_error: 1.6429\n",
      "Epoch 97/100\n",
      "404/404 [==============================] - 0s 936us/step - loss: 4.8580 - mean_absolute_error: 1.6111\n",
      "Epoch 98/100\n",
      "404/404 [==============================] - 0s 861us/step - loss: 5.2134 - mean_absolute_error: 1.6224\n",
      "Epoch 99/100\n",
      "404/404 [==============================] - 0s 874us/step - loss: 4.5241 - mean_absolute_error: 1.5365\n",
      "Epoch 100/100\n",
      "404/404 [==============================] - 0s 807us/step - loss: 4.8392 - mean_absolute_error: 1.5783\n"
     ]
    },
    {
     "data": {
      "text/plain": [
       "<tensorflow.python.keras.callbacks.History at 0x7f53502a04a8>"
      ]
     },
     "execution_count": 43,
     "metadata": {},
     "output_type": "execute_result"
    }
   ],
   "source": [
    "model = keras.models.Sequential()\n",
    "model.add(keras.layers.Dense(128, activation=tf.nn.relu, input_shape=(train_x.shape[1],)))\n",
    "model.add(keras.layers.Dense(128, activation=tf.nn.relu))\n",
    "model.add(keras.layers.Dense(1))\n",
    "\n",
    "model.compile(optimizer='adam', loss='mean_squared_error', metrics=['mae'])\n",
    "\n",
    "model.fit(train_x, train_y, epochs=100, batch_size=1)\n"
   ]
  },
  {
   "cell_type": "code",
   "execution_count": 44,
   "metadata": {},
   "outputs": [
    {
     "name": "stdout",
     "output_type": "stream",
     "text": [
      "Once deleted, variables cannot be recovered. Proceed (y/[n])? y\n"
     ]
    }
   ],
   "source": [
    "%reset"
   ]
  }
 ],
 "metadata": {
  "kernelspec": {
   "display_name": "Python (tensorflow)",
   "language": "python",
   "name": "tensorflow"
  },
  "language_info": {
   "codemirror_mode": {
    "name": "ipython",
    "version": 3
   },
   "file_extension": ".py",
   "mimetype": "text/x-python",
   "name": "python",
   "nbconvert_exporter": "python",
   "pygments_lexer": "ipython3",
   "version": "3.6.7"
  }
 },
 "nbformat": 4,
 "nbformat_minor": 2
}
