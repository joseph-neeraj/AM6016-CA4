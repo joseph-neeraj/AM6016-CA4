{
 "cells": [
  {
   "cell_type": "code",
   "execution_count": 1,
   "metadata": {},
   "outputs": [
    {
     "name": "stdout",
     "output_type": "stream",
     "text": [
      "1.12.0\n",
      "2.1.6-tf\n"
     ]
    }
   ],
   "source": [
    "# execute this cell before you start\n",
    "\n",
    "import tensorflow as tf\n",
    "from tensorflow.keras import layers\n",
    "\n",
    "# Helper libraries\n",
    "import numpy as np\n",
    "import matplotlib.pyplot as plt\n",
    "from tensorflow import keras\n",
    "\n",
    "print(tf.VERSION)\n",
    "print(tf.keras.__version__)\n"
   ]
  },
  {
   "cell_type": "markdown",
   "metadata": {},
   "source": [
    "#  CA4\n",
    "## due on 02/04/2019\n",
    "\n",
    "to submit the assignment, please do the following:\n",
    "\n",
    "- do `Cell -> All output -> Clear` to clear all your output\n",
    "- save the notebook (CA3.ipynb)"
   ]
  },
  {
   "cell_type": "markdown",
   "metadata": {},
   "source": [
    "# The Boston Housing Data\n",
    "\n",
    "Consider the data in  `keras.datasets.boston_housing`. In this case, there are only about 400 training datasets, where each dataset consists of 13 input values which are characteristic for a given property. The output corresponds to the property price. The meaning of the various columns is explained in https://www.kaggle.com/c/boston-housing.\n",
    "\n",
    "In contrast to the previous examples, which were categorisation problems, this is now a regression problem. The challenge is to train a network, which is able to predict the price of the property. \n",
    "\n",
    "You will again find lots of examples on the internet, and it is okay to use inspiration as long as you provide the source. \n",
    "\n",
    "Adhere to the following rules:\n",
    "\n",
    "a) Train the network on the logarithm of the price, not on the price itself. Explain why this makes sense. \n",
    "\n",
    "b) You will find many examples, which use `sci-kit learn` or other packages, which we did not do in the course. Do not use them, and restrict yourself to methods and libraries which we covered\n",
    "\n",
    "c) Try to find a network, which has the smallest amount of trainable parameters, while still providing good predictions of the price.  Discuss, how small you can go. \n",
    "\n",
    "d) Once you have trained the network, explore the correlations which this network predicts:\n",
    "    - Which inputs have a positive price correlation? \n",
    "    - Which inputs have a negative price correlation? \n",
    "    - Which inputs have little/no influence on the price?\n",
    "    \n",
    "  Investigate this by feeding into the network some artificial data, which you obtain from the testing data by varying one of the input columns.\n",
    "  \n",
    "  \n",
    "Optional challenge (no extra points but extra insight!):\n",
    "\n",
    "Compare the results with standard regression methods, for example as in ST4060/ST4061 in case you have covered them. \n",
    "\n"
   ]
  },
  {
   "cell_type": "code",
   "execution_count": 2,
   "metadata": {
    "deletable": false,
    "nbgrader": {
     "checksum": "c11fa0c01e83508e2b3055f97bb94ad2",
     "grade": true,
     "grade_id": "cell-62578aed3a4137c9",
     "locked": false,
     "points": 10,
     "schema_version": 1,
     "solution": true
    }
   },
   "outputs": [],
   "source": [
    "(train_x, train_y), (test_x, test_y) = keras.datasets.boston_housing.load_data()\n",
    "\n",
    "# from https://www.cs.toronto.edu/~delve/data/boston/bostonDetail.html\n",
    "var_names = ['CRIM', 'ZN', 'INDUS', 'CHAS', 'NOX', 'RM', 'AGE',\n",
    "             'DIS', 'RAD', 'TAX', 'PTRATIO', 'BLACK', 'LSTAT', 'MEDV']"
   ]
  },
  {
   "cell_type": "markdown",
   "metadata": {},
   "source": [
    "Method to print first n entries in the training data"
   ]
  },
  {
   "cell_type": "code",
   "execution_count": 3,
   "metadata": {},
   "outputs": [],
   "source": [
    "def printFirstN(n, x=train_x, y=train_y):\n",
    "    print((\"{:8}\"*len(var_names)).format(*var_names))\n",
    "    for i in range(10):\n",
    "        print(\n",
    "            (\"{:<8.4}\"*len(x[i])).format(*x[i]),\n",
    "             \"{:<8.3}\".format(y[i])\n",
    "        )"
   ]
  },
  {
   "cell_type": "code",
   "execution_count": 4,
   "metadata": {},
   "outputs": [
    {
     "name": "stdout",
     "output_type": "stream",
     "text": [
      "Train X shape (404, 13)\n",
      "Train Y shape (404,)\n",
      "Test X shape (102, 13)\n",
      "Train Y shape (102,)\n",
      "\n",
      "CRIM    ZN      INDUS   CHAS    NOX     RM      AGE     DIS     RAD     TAX     PTRATIO BLACK   LSTAT   MEDV    \n",
      "1.232   0.0     8.14    0.0     0.538   6.142   91.7    3.977   4.0     307.0   21.0    396.9   18.72    15.2    \n",
      "0.02177 82.5    2.03    0.0     0.415   7.61    15.7    6.27    2.0     348.0   14.7    395.4   3.11     42.3    \n",
      "4.898   0.0     18.1    0.0     0.631   4.97    100.0   1.333   24.0    666.0   20.2    375.5   3.26     50.0    \n",
      "0.03961 0.0     5.19    0.0     0.515   6.037   34.5    5.985   5.0     224.0   20.2    396.9   8.01     21.1    \n",
      "3.693   0.0     18.1    0.0     0.713   6.376   88.4    2.567   24.0    666.0   20.2    391.4   14.65    17.7    \n",
      "0.2839  0.0     7.38    0.0     0.493   5.708   74.3    4.721   5.0     287.0   19.6    391.1   11.74    18.5    \n",
      "9.187   0.0     18.1    0.0     0.7     5.536   100.0   1.58    24.0    666.0   20.2    396.9   23.6     11.3    \n",
      "4.097   0.0     19.58   0.0     0.871   5.468   100.0   1.412   5.0     403.0   14.7    396.9   26.42    15.6    \n",
      "2.155   0.0     19.58   0.0     0.871   5.628   100.0   1.517   5.0     403.0   14.7    169.3   16.65    15.6    \n",
      "1.629   0.0     21.89   0.0     0.624   5.019   100.0   1.439   4.0     437.0   21.2    396.9   34.41    14.4    \n"
     ]
    }
   ],
   "source": [
    "#Explore the data\n",
    "print('Train X shape', train_x.shape)\n",
    "print('Train Y shape', train_y.shape)\n",
    "print('Test X shape', test_x.shape)\n",
    "print('Train Y shape', test_y.shape)\n",
    "print()\n",
    "\n",
    "#inspect a few elements to get an idea of the data\n",
    "printFirstN(10)\n",
    "\n",
    "    "
   ]
  },
  {
   "cell_type": "markdown",
   "metadata": {},
   "source": [
    "It looks like the values of each predictor are very different in scale when compared to each other.\n",
    "This may lead to difficulties in building a good enough model.\n",
    "Hence scale them uniformly."
   ]
  },
  {
   "cell_type": "markdown",
   "metadata": {},
   "source": [
    "Although scaling the data on a scale of 0 to 1, as in the following commented cell works,\n",
    "a better mean absolute error is obtained by centering the data on its mean and then scaling it using the \n",
    "standard deviation (as shown in https://www.kaggle.com/shanekonaung/boston-housing-price-dataset-with-keras)"
   ]
  },
  {
   "cell_type": "code",
   "execution_count": 5,
   "metadata": {},
   "outputs": [],
   "source": [
    "# train_x = (train_x - train_x.min(axis=0)) / (train_x.max(axis=0) - train_x.min(axis=0))\n",
    "# test_x = (test_x - test_x.min(axis=0)) / (test_x.max(axis=0) - test_x.min(axis=0))"
   ]
  },
  {
   "cell_type": "code",
   "execution_count": 6,
   "metadata": {},
   "outputs": [],
   "source": [
    "# Scaling criteria from https://www.kaggle.com/shanekonaung/boston-housing-price-dataset-with-keras\n",
    "mean = train_x.mean(axis=0)\n",
    "train_x = train_x - mean\n",
    "std = train_x.std(axis=0)\n",
    "train_x = train_x/std\n",
    "\n",
    "test_x = test_x-mean\n",
    "test_x = test_x/std"
   ]
  },
  {
   "cell_type": "markdown",
   "metadata": {},
   "source": [
    "### a) Train the network on the logarithm of the price, not on the price itself. Explain why this makes sense."
   ]
  },
  {
   "cell_type": "markdown",
   "metadata": {},
   "source": [
    "The loss function we'll be using is mean_squared_error. This means that the price values that are too large or too small will have a major influence on the model. Log transformation is a way to reduce this influence.\n",
    "Hence : "
   ]
  },
  {
   "cell_type": "code",
   "execution_count": 7,
   "metadata": {},
   "outputs": [],
   "source": [
    "log_train_y = np.log(train_y)\n",
    "log_test_y = np.log(test_y)"
   ]
  },
  {
   "cell_type": "markdown",
   "metadata": {},
   "source": [
    "Inspect the scaled data:"
   ]
  },
  {
   "cell_type": "code",
   "execution_count": 8,
   "metadata": {},
   "outputs": [
    {
     "name": "stdout",
     "output_type": "stream",
     "text": [
      "CRIM    ZN      INDUS   CHAS    NOX     RM      AGE     DIS     RAD     TAX     PTRATIO BLACK   LSTAT   MEDV    \n",
      "1.232   0.0     8.14    0.0     0.538   6.142   91.7    3.977   4.0     307.0   21.0    396.9   18.72    15.2    \n",
      "0.02177 82.5    2.03    0.0     0.415   7.61    15.7    6.27    2.0     348.0   14.7    395.4   3.11     42.3    \n",
      "4.898   0.0     18.1    0.0     0.631   4.97    100.0   1.333   24.0    666.0   20.2    375.5   3.26     50.0    \n",
      "0.03961 0.0     5.19    0.0     0.515   6.037   34.5    5.985   5.0     224.0   20.2    396.9   8.01     21.1    \n",
      "3.693   0.0     18.1    0.0     0.713   6.376   88.4    2.567   24.0    666.0   20.2    391.4   14.65    17.7    \n",
      "0.2839  0.0     7.38    0.0     0.493   5.708   74.3    4.721   5.0     287.0   19.6    391.1   11.74    18.5    \n",
      "9.187   0.0     18.1    0.0     0.7     5.536   100.0   1.58    24.0    666.0   20.2    396.9   23.6     11.3    \n",
      "4.097   0.0     19.58   0.0     0.871   5.468   100.0   1.412   5.0     403.0   14.7    396.9   26.42    15.6    \n",
      "2.155   0.0     19.58   0.0     0.871   5.628   100.0   1.517   5.0     403.0   14.7    169.3   16.65    15.6    \n",
      "1.629   0.0     21.89   0.0     0.624   5.019   100.0   1.439   4.0     437.0   21.2    396.9   34.41    14.4    \n"
     ]
    }
   ],
   "source": [
    "printFirstN(10)"
   ]
  },
  {
   "cell_type": "markdown",
   "metadata": {},
   "source": [
    "Method to build the model:"
   ]
  },
  {
   "cell_type": "code",
   "execution_count": 9,
   "metadata": {},
   "outputs": [],
   "source": [
    "def buildModel(numNeurons):\n",
    "    model = keras.models.Sequential()\n",
    "    model.add(keras.layers.Dense(numNeurons, activation=tf.nn.relu, input_shape=(train_x.shape[1],)))\n",
    "    model.add(keras.layers.Dense(numNeurons, activation=tf.nn.relu))\n",
    "    model.add(keras.layers.Dense(1))\n",
    "    \n",
    "    return model;"
   ]
  },
  {
   "cell_type": "markdown",
   "metadata": {},
   "source": [
    "Now fit and inspect the model:"
   ]
  },
  {
   "cell_type": "code",
   "execution_count": 10,
   "metadata": {},
   "outputs": [
    {
     "name": "stdout",
     "output_type": "stream",
     "text": [
      "Train on 404 samples, validate on 102 samples\n",
      "Epoch 1/100\n",
      "404/404 [==============================] - 1s 3ms/step - loss: 61.3797 - mean_absolute_error: 4.8720 - val_loss: 28.7380 - val_mean_absolute_error: 3.9255\n",
      "Epoch 2/100\n",
      "404/404 [==============================] - 1s 4ms/step - loss: 17.0476 - mean_absolute_error: 2.9870 - val_loss: 25.7714 - val_mean_absolute_error: 3.4253\n",
      "Epoch 3/100\n",
      "404/404 [==============================] - 1s 3ms/step - loss: 13.9369 - mean_absolute_error: 2.8920 - val_loss: 26.7388 - val_mean_absolute_error: 3.7287\n",
      "Epoch 4/100\n",
      "404/404 [==============================] - 1s 2ms/step - loss: 14.2786 - mean_absolute_error: 2.7738 - val_loss: 19.8741 - val_mean_absolute_error: 3.0214\n",
      "Epoch 5/100\n",
      "404/404 [==============================] - 1s 3ms/step - loss: 12.4985 - mean_absolute_error: 2.6524 - val_loss: 23.0081 - val_mean_absolute_error: 3.4942\n",
      "Epoch 6/100\n",
      "404/404 [==============================] - 1s 3ms/step - loss: 12.7823 - mean_absolute_error: 2.6684 - val_loss: 17.1206 - val_mean_absolute_error: 2.8727\n",
      "Epoch 7/100\n",
      "404/404 [==============================] - 1s 3ms/step - loss: 11.5833 - mean_absolute_error: 2.5545 - val_loss: 19.2844 - val_mean_absolute_error: 3.2662\n",
      "Epoch 8/100\n",
      "404/404 [==============================] - 1s 3ms/step - loss: 12.1728 - mean_absolute_error: 2.5240 - val_loss: 18.6995 - val_mean_absolute_error: 2.7339\n",
      "Epoch 9/100\n",
      "404/404 [==============================] - 1s 3ms/step - loss: 10.2481 - mean_absolute_error: 2.3581 - val_loss: 39.7732 - val_mean_absolute_error: 4.3665\n",
      "Epoch 10/100\n",
      "404/404 [==============================] - 1s 3ms/step - loss: 11.1344 - mean_absolute_error: 2.4851 - val_loss: 21.7131 - val_mean_absolute_error: 3.0372\n",
      "Epoch 11/100\n",
      "404/404 [==============================] - 1s 3ms/step - loss: 10.9690 - mean_absolute_error: 2.4823 - val_loss: 20.9383 - val_mean_absolute_error: 3.1467\n",
      "Epoch 12/100\n",
      "404/404 [==============================] - 1s 3ms/step - loss: 9.7299 - mean_absolute_error: 2.3538 - val_loss: 20.4672 - val_mean_absolute_error: 2.9323\n",
      "Epoch 13/100\n",
      "404/404 [==============================] - 1s 3ms/step - loss: 10.5207 - mean_absolute_error: 2.3499 - val_loss: 27.2531 - val_mean_absolute_error: 3.4535\n",
      "Epoch 14/100\n",
      "404/404 [==============================] - 1s 3ms/step - loss: 9.4663 - mean_absolute_error: 2.2015 - val_loss: 33.2165 - val_mean_absolute_error: 3.6620\n",
      "Epoch 15/100\n",
      "404/404 [==============================] - 1s 3ms/step - loss: 9.3000 - mean_absolute_error: 2.3032 - val_loss: 16.0241 - val_mean_absolute_error: 2.5630\n",
      "Epoch 16/100\n",
      "404/404 [==============================] - 1s 3ms/step - loss: 8.5667 - mean_absolute_error: 2.1677 - val_loss: 19.6456 - val_mean_absolute_error: 3.3282\n",
      "Epoch 17/100\n",
      "404/404 [==============================] - 1s 3ms/step - loss: 8.6561 - mean_absolute_error: 2.1209 - val_loss: 22.1695 - val_mean_absolute_error: 2.9885\n",
      "Epoch 18/100\n",
      "404/404 [==============================] - 1s 3ms/step - loss: 8.5034 - mean_absolute_error: 2.1426 - val_loss: 24.6923 - val_mean_absolute_error: 3.0830\n",
      "Epoch 19/100\n",
      "404/404 [==============================] - 1s 3ms/step - loss: 10.3506 - mean_absolute_error: 2.3170 - val_loss: 15.0312 - val_mean_absolute_error: 2.4703\n",
      "Epoch 20/100\n",
      "404/404 [==============================] - 1s 3ms/step - loss: 7.7724 - mean_absolute_error: 1.9888 - val_loss: 15.0158 - val_mean_absolute_error: 2.6947\n",
      "Epoch 21/100\n",
      "404/404 [==============================] - 1s 3ms/step - loss: 9.1586 - mean_absolute_error: 2.2189 - val_loss: 21.2092 - val_mean_absolute_error: 3.2577\n",
      "Epoch 22/100\n",
      "404/404 [==============================] - 1s 3ms/step - loss: 8.6750 - mean_absolute_error: 2.0770 - val_loss: 17.6015 - val_mean_absolute_error: 2.8560\n",
      "Epoch 23/100\n",
      "404/404 [==============================] - 1s 3ms/step - loss: 7.3791 - mean_absolute_error: 2.0178 - val_loss: 17.3969 - val_mean_absolute_error: 2.8011\n",
      "Epoch 24/100\n",
      "404/404 [==============================] - 1s 3ms/step - loss: 7.7944 - mean_absolute_error: 2.0534 - val_loss: 16.6037 - val_mean_absolute_error: 2.6950\n",
      "Epoch 25/100\n",
      "404/404 [==============================] - 1s 3ms/step - loss: 8.1128 - mean_absolute_error: 2.1027 - val_loss: 17.8341 - val_mean_absolute_error: 2.7663\n",
      "Epoch 26/100\n",
      "404/404 [==============================] - 1s 3ms/step - loss: 8.9010 - mean_absolute_error: 2.0733 - val_loss: 26.4525 - val_mean_absolute_error: 3.3410\n",
      "Epoch 27/100\n",
      "404/404 [==============================] - 1s 3ms/step - loss: 6.4852 - mean_absolute_error: 1.8808 - val_loss: 25.5693 - val_mean_absolute_error: 3.4089\n",
      "Epoch 28/100\n",
      "404/404 [==============================] - 1s 3ms/step - loss: 6.4819 - mean_absolute_error: 1.8917 - val_loss: 17.5966 - val_mean_absolute_error: 2.8952\n",
      "Epoch 29/100\n",
      "404/404 [==============================] - 1s 3ms/step - loss: 7.5346 - mean_absolute_error: 1.9822 - val_loss: 14.6765 - val_mean_absolute_error: 2.4889\n",
      "Epoch 30/100\n",
      "404/404 [==============================] - 1s 4ms/step - loss: 6.4482 - mean_absolute_error: 1.8363 - val_loss: 18.5069 - val_mean_absolute_error: 3.2456\n",
      "Epoch 31/100\n",
      "404/404 [==============================] - 1s 3ms/step - loss: 6.4138 - mean_absolute_error: 1.8804 - val_loss: 15.7558 - val_mean_absolute_error: 2.6463\n",
      "Epoch 32/100\n",
      "404/404 [==============================] - 1s 3ms/step - loss: 5.6697 - mean_absolute_error: 1.8117 - val_loss: 13.1034 - val_mean_absolute_error: 2.4725\n",
      "Epoch 33/100\n",
      "404/404 [==============================] - 1s 3ms/step - loss: 6.7482 - mean_absolute_error: 1.8070 - val_loss: 10.9285 - val_mean_absolute_error: 2.2414\n",
      "Epoch 34/100\n",
      "404/404 [==============================] - 1s 3ms/step - loss: 6.3423 - mean_absolute_error: 1.8182 - val_loss: 15.5944 - val_mean_absolute_error: 2.8895\n",
      "Epoch 35/100\n",
      "404/404 [==============================] - 1s 3ms/step - loss: 6.3570 - mean_absolute_error: 1.8587 - val_loss: 15.5962 - val_mean_absolute_error: 2.8532\n",
      "Epoch 36/100\n",
      "404/404 [==============================] - 1s 3ms/step - loss: 5.4614 - mean_absolute_error: 1.7493 - val_loss: 16.7148 - val_mean_absolute_error: 2.5841\n",
      "Epoch 37/100\n",
      "404/404 [==============================] - 1s 3ms/step - loss: 6.3637 - mean_absolute_error: 1.7919 - val_loss: 16.8956 - val_mean_absolute_error: 3.1636\n",
      "Epoch 38/100\n",
      "404/404 [==============================] - 1s 4ms/step - loss: 6.8305 - mean_absolute_error: 1.7927 - val_loss: 12.2239 - val_mean_absolute_error: 2.3549\n",
      "Epoch 39/100\n",
      "404/404 [==============================] - 1s 4ms/step - loss: 4.3098 - mean_absolute_error: 1.5760 - val_loss: 16.6894 - val_mean_absolute_error: 2.6432\n",
      "Epoch 40/100\n",
      "404/404 [==============================] - 1s 3ms/step - loss: 4.2893 - mean_absolute_error: 1.5504 - val_loss: 15.1437 - val_mean_absolute_error: 2.6959\n",
      "Epoch 41/100\n",
      "404/404 [==============================] - 1s 3ms/step - loss: 5.4253 - mean_absolute_error: 1.6985 - val_loss: 14.3011 - val_mean_absolute_error: 2.8410\n",
      "Epoch 42/100\n",
      "404/404 [==============================] - 1s 3ms/step - loss: 5.1247 - mean_absolute_error: 1.6669 - val_loss: 16.6122 - val_mean_absolute_error: 2.8488\n",
      "Epoch 43/100\n",
      "404/404 [==============================] - 1s 3ms/step - loss: 4.1142 - mean_absolute_error: 1.5534 - val_loss: 13.2573 - val_mean_absolute_error: 2.5020\n",
      "Epoch 44/100\n",
      "404/404 [==============================] - 1s 3ms/step - loss: 4.9009 - mean_absolute_error: 1.6130 - val_loss: 15.4313 - val_mean_absolute_error: 2.8297\n",
      "Epoch 45/100\n",
      "404/404 [==============================] - 1s 3ms/step - loss: 4.5273 - mean_absolute_error: 1.5802 - val_loss: 12.6146 - val_mean_absolute_error: 2.3728\n",
      "Epoch 46/100\n",
      "404/404 [==============================] - 1s 3ms/step - loss: 5.4434 - mean_absolute_error: 1.6734 - val_loss: 14.9637 - val_mean_absolute_error: 2.7051\n",
      "Epoch 47/100\n",
      "404/404 [==============================] - 1s 3ms/step - loss: 4.8537 - mean_absolute_error: 1.6080 - val_loss: 11.5265 - val_mean_absolute_error: 2.4281\n",
      "Epoch 48/100\n",
      "404/404 [==============================] - 1s 3ms/step - loss: 4.0522 - mean_absolute_error: 1.5641 - val_loss: 17.6065 - val_mean_absolute_error: 3.0499\n",
      "Epoch 49/100\n",
      "404/404 [==============================] - 1s 4ms/step - loss: 4.5011 - mean_absolute_error: 1.5530 - val_loss: 12.6296 - val_mean_absolute_error: 2.4616\n"
     ]
    },
    {
     "name": "stdout",
     "output_type": "stream",
     "text": [
      "Epoch 50/100\n",
      "404/404 [==============================] - 1s 3ms/step - loss: 6.6989 - mean_absolute_error: 1.7843 - val_loss: 14.6550 - val_mean_absolute_error: 2.6250\n",
      "Epoch 51/100\n",
      "404/404 [==============================] - 1s 3ms/step - loss: 4.2732 - mean_absolute_error: 1.5907 - val_loss: 12.7335 - val_mean_absolute_error: 2.4992\n",
      "Epoch 52/100\n",
      "404/404 [==============================] - 1s 3ms/step - loss: 4.2760 - mean_absolute_error: 1.5891 - val_loss: 11.8444 - val_mean_absolute_error: 2.4465\n",
      "Epoch 53/100\n",
      "404/404 [==============================] - 1s 3ms/step - loss: 5.0299 - mean_absolute_error: 1.6399 - val_loss: 15.5296 - val_mean_absolute_error: 2.8776\n",
      "Epoch 54/100\n",
      "404/404 [==============================] - 1s 3ms/step - loss: 3.8541 - mean_absolute_error: 1.4658 - val_loss: 12.6393 - val_mean_absolute_error: 2.4075\n",
      "Epoch 55/100\n",
      "404/404 [==============================] - 1s 3ms/step - loss: 3.5889 - mean_absolute_error: 1.4299 - val_loss: 12.4756 - val_mean_absolute_error: 2.3948\n",
      "Epoch 56/100\n",
      "404/404 [==============================] - 1s 3ms/step - loss: 3.6775 - mean_absolute_error: 1.4475 - val_loss: 19.2000 - val_mean_absolute_error: 3.4779\n",
      "Epoch 57/100\n",
      "404/404 [==============================] - 1s 3ms/step - loss: 5.0266 - mean_absolute_error: 1.6475 - val_loss: 14.9232 - val_mean_absolute_error: 2.4968\n",
      "Epoch 58/100\n",
      "404/404 [==============================] - 1s 4ms/step - loss: 3.5627 - mean_absolute_error: 1.4574 - val_loss: 11.8087 - val_mean_absolute_error: 2.4890\n",
      "Epoch 59/100\n",
      "404/404 [==============================] - 1s 3ms/step - loss: 3.9897 - mean_absolute_error: 1.4670 - val_loss: 14.9350 - val_mean_absolute_error: 2.7865\n",
      "Epoch 60/100\n",
      "404/404 [==============================] - 1s 2ms/step - loss: 4.0534 - mean_absolute_error: 1.4821 - val_loss: 12.1943 - val_mean_absolute_error: 2.3084\n",
      "Epoch 61/100\n",
      "404/404 [==============================] - 1s 2ms/step - loss: 4.3761 - mean_absolute_error: 1.5205 - val_loss: 17.6179 - val_mean_absolute_error: 3.1309\n",
      "Epoch 62/100\n",
      "404/404 [==============================] - 1s 2ms/step - loss: 3.7705 - mean_absolute_error: 1.4605 - val_loss: 11.9287 - val_mean_absolute_error: 2.2734\n",
      "Epoch 63/100\n",
      "404/404 [==============================] - 1s 2ms/step - loss: 3.5649 - mean_absolute_error: 1.4340 - val_loss: 12.6877 - val_mean_absolute_error: 2.4993\n",
      "Epoch 64/100\n",
      "404/404 [==============================] - 1s 2ms/step - loss: 3.8794 - mean_absolute_error: 1.4334 - val_loss: 13.8085 - val_mean_absolute_error: 2.5324\n",
      "Epoch 65/100\n",
      "404/404 [==============================] - 1s 2ms/step - loss: 3.0335 - mean_absolute_error: 1.3485 - val_loss: 13.5602 - val_mean_absolute_error: 2.3712\n",
      "Epoch 66/100\n",
      "404/404 [==============================] - 1s 2ms/step - loss: 4.3129 - mean_absolute_error: 1.5104 - val_loss: 12.8119 - val_mean_absolute_error: 2.4867\n",
      "Epoch 67/100\n",
      "404/404 [==============================] - 1s 2ms/step - loss: 3.5399 - mean_absolute_error: 1.4034 - val_loss: 11.8430 - val_mean_absolute_error: 2.3033\n",
      "Epoch 68/100\n",
      "404/404 [==============================] - 1s 2ms/step - loss: 3.1446 - mean_absolute_error: 1.2920 - val_loss: 13.8602 - val_mean_absolute_error: 2.6802\n",
      "Epoch 69/100\n",
      "404/404 [==============================] - 1s 2ms/step - loss: 2.8884 - mean_absolute_error: 1.2964 - val_loss: 14.5030 - val_mean_absolute_error: 2.7278\n",
      "Epoch 70/100\n",
      "404/404 [==============================] - 1s 2ms/step - loss: 3.3425 - mean_absolute_error: 1.3606 - val_loss: 12.1128 - val_mean_absolute_error: 2.3310\n",
      "Epoch 71/100\n",
      "404/404 [==============================] - 1s 2ms/step - loss: 3.6577 - mean_absolute_error: 1.4267 - val_loss: 13.2024 - val_mean_absolute_error: 2.6732\n",
      "Epoch 72/100\n",
      "404/404 [==============================] - 1s 2ms/step - loss: 2.8681 - mean_absolute_error: 1.2494 - val_loss: 12.2207 - val_mean_absolute_error: 2.4801\n",
      "Epoch 73/100\n",
      "404/404 [==============================] - 1s 2ms/step - loss: 4.1872 - mean_absolute_error: 1.4038 - val_loss: 11.9646 - val_mean_absolute_error: 2.2970\n",
      "Epoch 74/100\n",
      "404/404 [==============================] - 1s 2ms/step - loss: 3.1868 - mean_absolute_error: 1.3463 - val_loss: 13.1915 - val_mean_absolute_error: 2.6047\n",
      "Epoch 75/100\n",
      "404/404 [==============================] - 1s 2ms/step - loss: 3.1391 - mean_absolute_error: 1.3046 - val_loss: 12.4950 - val_mean_absolute_error: 2.5237\n",
      "Epoch 76/100\n",
      "404/404 [==============================] - 1s 2ms/step - loss: 3.1299 - mean_absolute_error: 1.2623 - val_loss: 13.1263 - val_mean_absolute_error: 2.3400\n",
      "Epoch 77/100\n",
      "404/404 [==============================] - 1s 2ms/step - loss: 2.4496 - mean_absolute_error: 1.2061 - val_loss: 15.5045 - val_mean_absolute_error: 2.9073\n",
      "Epoch 78/100\n",
      "404/404 [==============================] - 1s 2ms/step - loss: 3.0394 - mean_absolute_error: 1.2914 - val_loss: 11.5502 - val_mean_absolute_error: 2.2454\n",
      "Epoch 79/100\n",
      "404/404 [==============================] - 1s 2ms/step - loss: 3.3137 - mean_absolute_error: 1.3444 - val_loss: 11.2483 - val_mean_absolute_error: 2.3000\n",
      "Epoch 80/100\n",
      "404/404 [==============================] - 1s 2ms/step - loss: 3.2836 - mean_absolute_error: 1.3338 - val_loss: 11.2439 - val_mean_absolute_error: 2.1587\n",
      "Epoch 81/100\n",
      "404/404 [==============================] - 1s 2ms/step - loss: 3.0961 - mean_absolute_error: 1.2732 - val_loss: 11.1129 - val_mean_absolute_error: 2.2355\n",
      "Epoch 82/100\n",
      "404/404 [==============================] - 1s 3ms/step - loss: 2.4145 - mean_absolute_error: 1.1653 - val_loss: 12.6648 - val_mean_absolute_error: 2.3119\n",
      "Epoch 83/100\n",
      "404/404 [==============================] - 1s 3ms/step - loss: 2.6977 - mean_absolute_error: 1.2381 - val_loss: 12.8881 - val_mean_absolute_error: 2.4745\n",
      "Epoch 84/100\n",
      "404/404 [==============================] - 1s 3ms/step - loss: 2.2967 - mean_absolute_error: 1.1605 - val_loss: 11.8817 - val_mean_absolute_error: 2.3344\n",
      "Epoch 85/100\n",
      "404/404 [==============================] - 1s 3ms/step - loss: 2.8099 - mean_absolute_error: 1.2671 - val_loss: 10.6116 - val_mean_absolute_error: 2.2336\n",
      "Epoch 86/100\n",
      "404/404 [==============================] - 1s 3ms/step - loss: 3.5096 - mean_absolute_error: 1.2863 - val_loss: 10.8895 - val_mean_absolute_error: 2.3096\n",
      "Epoch 87/100\n",
      "404/404 [==============================] - 1s 3ms/step - loss: 2.8572 - mean_absolute_error: 1.2423 - val_loss: 14.3863 - val_mean_absolute_error: 2.5886\n",
      "Epoch 88/100\n",
      "404/404 [==============================] - 1s 3ms/step - loss: 2.4240 - mean_absolute_error: 1.1672 - val_loss: 10.4267 - val_mean_absolute_error: 2.2037\n",
      "Epoch 89/100\n",
      "404/404 [==============================] - 1s 3ms/step - loss: 2.5692 - mean_absolute_error: 1.1590 - val_loss: 14.1255 - val_mean_absolute_error: 2.5347\n",
      "Epoch 90/100\n",
      "404/404 [==============================] - 1s 3ms/step - loss: 2.8016 - mean_absolute_error: 1.2236 - val_loss: 13.6943 - val_mean_absolute_error: 2.5248\n",
      "Epoch 91/100\n",
      "404/404 [==============================] - 1s 3ms/step - loss: 2.9452 - mean_absolute_error: 1.2747 - val_loss: 13.0590 - val_mean_absolute_error: 2.4054\n",
      "Epoch 92/100\n",
      "404/404 [==============================] - 1s 3ms/step - loss: 2.9552 - mean_absolute_error: 1.2410 - val_loss: 15.7743 - val_mean_absolute_error: 2.5880\n",
      "Epoch 93/100\n",
      "404/404 [==============================] - 1s 3ms/step - loss: 2.1032 - mean_absolute_error: 1.0933 - val_loss: 11.3227 - val_mean_absolute_error: 2.1758\n",
      "Epoch 94/100\n",
      "404/404 [==============================] - 1s 3ms/step - loss: 2.3421 - mean_absolute_error: 1.1432 - val_loss: 11.3634 - val_mean_absolute_error: 2.2222\n",
      "Epoch 95/100\n",
      "404/404 [==============================] - 1s 3ms/step - loss: 2.3380 - mean_absolute_error: 1.1578 - val_loss: 12.5781 - val_mean_absolute_error: 2.3704\n",
      "Epoch 96/100\n",
      "404/404 [==============================] - 1s 2ms/step - loss: 2.7093 - mean_absolute_error: 1.2700 - val_loss: 12.0849 - val_mean_absolute_error: 2.3260\n",
      "Epoch 97/100\n",
      "404/404 [==============================] - 1s 3ms/step - loss: 2.6567 - mean_absolute_error: 1.1963 - val_loss: 11.0072 - val_mean_absolute_error: 2.3456\n",
      "Epoch 98/100\n",
      "404/404 [==============================] - 1s 3ms/step - loss: 2.4939 - mean_absolute_error: 1.1728 - val_loss: 14.0892 - val_mean_absolute_error: 2.5029\n",
      "Epoch 99/100\n"
     ]
    },
    {
     "name": "stdout",
     "output_type": "stream",
     "text": [
      "404/404 [==============================] - 1s 3ms/step - loss: 2.0211 - mean_absolute_error: 1.0576 - val_loss: 12.2802 - val_mean_absolute_error: 2.3611\n",
      "Epoch 100/100\n",
      "404/404 [==============================] - 1s 2ms/step - loss: 2.6288 - mean_absolute_error: 1.2043 - val_loss: 12.2272 - val_mean_absolute_error: 2.3871\n",
      "CPU times: user 3min 40s, sys: 31.2 s, total: 4min 11s\n",
      "Wall time: 1min 47s\n"
     ]
    }
   ],
   "source": [
    "%%time\n",
    "model = buildModel(512)\n",
    "model.compile(optimizer='adam', loss='mean_squared_error', metrics=['mae'])\n",
    "fit_result = model.fit(train_x, train_y, epochs=100, batch_size=1, validation_data=(test_x, test_y))"
   ]
  },
  {
   "cell_type": "code",
   "execution_count": 13,
   "metadata": {},
   "outputs": [],
   "source": [
    "history = fit_result.history"
   ]
  },
  {
   "cell_type": "code",
   "execution_count": 14,
   "metadata": {},
   "outputs": [
    {
     "data": {
      "text/plain": [
       "<matplotlib.legend.Legend at 0x7f2259fd0860>"
      ]
     },
     "execution_count": 14,
     "metadata": {},
     "output_type": "execute_result"
    },
    {
     "data": {
      "image/png": "[encoded data removed]",
      "text/plain": [
       "<matplotlib.figure.Figure at 0x7f226807ef98>"
      ]
     },
     "metadata": {},
     "output_type": "display_data"
    }
   ],
   "source": [
    "plt.plot(fit_result.epoch, history['mean_absolute_error'], 'b', label='Training MAE')\n",
    "plt.plot(fit_result.epoch, history['val_mean_absolute_error'], 'r', label='Validation MAE')\n",
    "plt.title('Epoch vs MAE')\n",
    "plt.xlabel('Epochs')\n",
    "plt.ylabel('Mean Absolute Error')\n",
    "plt.legend()"
   ]
  },
  {
   "cell_type": "markdown",
   "metadata": {},
   "source": [
    "The plot says that although the training MAE goes down almost monotonously, the test MAE remains more or less the same after about 60 epochs. This hints that the model has been overfitted. \n",
    "This is confirmed by the Epochs vs Loss plot below:"
   ]
  },
  {
   "cell_type": "code",
   "execution_count": 15,
   "metadata": {},
   "outputs": [
    {
     "data": {
      "text/plain": [
       "<matplotlib.legend.Legend at 0x7f2259f43eb8>"
      ]
     },
     "execution_count": 15,
     "metadata": {},
     "output_type": "execute_result"
    },
    {
     "data": {
      "image/png": "[encoded data removed]",
      "text/plain": [
       "<matplotlib.figure.Figure at 0x7f2259f816d8>"
      ]
     },
     "metadata": {},
     "output_type": "display_data"
    }
   ],
   "source": [
    "plt.plot(fit_result.epoch, history['loss'], 'b', label='Training loss')\n",
    "plt.plot(fit_result.epoch, history['val_loss'], 'r', label='Validation loss')\n",
    "plt.title('Loss')\n",
    "plt.xlabel('Epochs')\n",
    "plt.ylabel('Loss')\n",
    "plt.legend()"
   ]
  },
  {
   "cell_type": "markdown",
   "metadata": {},
   "source": [
    "### c)  Try to find a network, which has the smallest amount of trainable parameters, while still providing good predictions of the price. Discuss, how small you can go."
   ]
  },
  {
   "cell_type": "markdown",
   "metadata": {},
   "source": [
    "Loop through the number of neurons to find the value providing minimum mean absolute error"
   ]
  },
  {
   "cell_type": "code",
   "execution_count": null,
   "metadata": {},
   "outputs": [],
   "source": [
    "%%time\n",
    "\n",
    "min_neurons = 8\n",
    "num_neurons = 512\n",
    "mae_dict = {}\n",
    "models_dict = {}\n",
    "while(num_neurons >= min_neurons):\n",
    "    \n",
    "    print(\"Fitting model for neurons = \", num_neurons)\n",
    "    model_test = buildModel(num_neurons)\n",
    "    model_test.compile(optimizer='adam', loss='mean_squared_error', metrics=['mae'])\n",
    "\n",
    "    model_test.fit(train_x, train_y, epochs=100, batch_size=1)\n",
    "    \n",
    "    print(\"Summary for neurons = \", num_neurons)\n",
    "    model_test.summary()\n",
    "    \n",
    "    val_mse, val_mae = model_test.evaluate(test_x, test_y)\n",
    "    mae_dict[num_neurons] = val_mae\n",
    "    models_dict[num_neurons] = model_test\n",
    "    \n",
    "    num_neurons /= 2\n",
    "\n",
    "print(mae_dict)"
   ]
  },
  {
   "cell_type": "markdown",
   "metadata": {},
   "source": [
    "Find the number of neurons which gives minimum mean absolute error:"
   ]
  },
  {
   "cell_type": "code",
   "execution_count": null,
   "metadata": {},
   "outputs": [],
   "source": [
    "neuronWithMinMAE = min(mae_dict, key=mae_dict.get)"
   ]
  },
  {
   "cell_type": "code",
   "execution_count": null,
   "metadata": {},
   "outputs": [],
   "source": [
    "print(\"It appears that {} is enough for a network to have sufficient accuracy\", neuronWithMinMAE)"
   ]
  },
  {
   "cell_type": "markdown",
   "metadata": {},
   "source": [
    "### d) Once you have trained the network, explore the correlations which this network predicts:"
   ]
  },
  {
   "cell_type": "markdown",
   "metadata": {},
   "source": [
    "Find the model with minimum number of trainable parameters"
   ]
  },
  {
   "cell_type": "code",
   "execution_count": null,
   "metadata": {},
   "outputs": [],
   "source": [
    "model = models_dict[neuronWithMinMAE]"
   ]
  },
  {
   "cell_type": "markdown",
   "metadata": {},
   "source": [
    "Replace each column in the data with its max value and make a new set of predictions on that.\n",
    "Comparing this with the original predictions can give an idea on the correlation of each variable\n",
    "with the price"
   ]
  },
  {
   "cell_type": "code",
   "execution_count": null,
   "metadata": {},
   "outputs": [],
   "source": [
    "original_predictions = model.predict(test_x)\n",
    "new_predictions = [];\n",
    "\n",
    "# iterate over the columns\n",
    "for j in range(len(var_names) - 1):\n",
    "    # Make a copy of the original so that its column can be modified\n",
    "    test_x_copy = np.copy(test_x)\n",
    "    \n",
    "    # set all values in the current column to the max value\n",
    "    for i in range(len(test_x)):\n",
    "        test_x_copy[i][j] = test_x.max(axis=0)[j];  \n",
    "        \n",
    "    # Now make the prediction again with the modified data\n",
    "    new_prediction = model.predict(test_x_copy)\n",
    "    new_predictions.append(new_prediction)\n",
    "    \n"
   ]
  },
  {
   "cell_type": "markdown",
   "metadata": {},
   "source": [
    "Now plot the Original Prediction and Modified prediction for each variable"
   ]
  },
  {
   "cell_type": "code",
   "execution_count": null,
   "metadata": {},
   "outputs": [],
   "source": [
    "num_predictions = len(original_predictions)\n",
    "\n",
    "plt.figure(figsize=(40,40))\n",
    "for i in range(13):\n",
    "    plt.subplot(5,3, i + 1)\n",
    "    x = list(range(num_predictions))\n",
    "    plt.plot(x, original_predictions, label='Original Predictions')\n",
    "    plt.plot(x, new_predictions[i], label='Modified Predictions')\n",
    "    plt.title(var_names[i])\n",
    "    plt.legend()"
   ]
  },
  {
   "cell_type": "markdown",
   "metadata": {},
   "source": [
    "From the plots, conclusions on the correlations of each of the predictors on the price can be made as follows:\n",
    "\n",
    "* Positive Price Correlation : RM, RAD\n",
    "* Negative Price Correlation : CRIM\n",
    "* Little/No Price Correlation : All others\n",
    "\n"
   ]
  },
  {
   "cell_type": "code",
   "execution_count": null,
   "metadata": {},
   "outputs": [],
   "source": [
    "%reset"
   ]
  },
  {
   "cell_type": "code",
   "execution_count": null,
   "metadata": {},
   "outputs": [],
   "source": []
  }
 ],
 "metadata": {
  "kernelspec": {
   "display_name": "Python (tensorflow)",
   "language": "python",
   "name": "tensorflow"
  },
  "language_info": {
   "codemirror_mode": {
    "name": "ipython",
    "version": 3
   },
   "file_extension": ".py",
   "mimetype": "text/x-python",
   "name": "python",
   "nbconvert_exporter": "python",
   "pygments_lexer": "ipython3",
   "version": "3.6.7"
  }
 },
 "nbformat": 4,
 "nbformat_minor": 2
}
