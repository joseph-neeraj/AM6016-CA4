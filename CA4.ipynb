{
 "cells": [
  {
   "cell_type": "code",
   "execution_count": 74,
   "metadata": {},
   "outputs": [
    {
     "name": "stdout",
     "output_type": "stream",
     "text": [
      "1.12.0\n",
      "2.1.6-tf\n"
     ]
    }
   ],
   "source": [
    "# execute this cell before you start\n",
    "\n",
    "import tensorflow as tf\n",
    "from tensorflow.keras import layers\n",
    "\n",
    "# Helper libraries\n",
    "import numpy as np\n",
    "import matplotlib.pyplot as plt\n",
    "from tensorflow import keras\n",
    "\n",
    "print(tf.VERSION)\n",
    "print(tf.keras.__version__)\n"
   ]
  },
  {
   "cell_type": "markdown",
   "metadata": {},
   "source": [
    "#  CA4\n",
    "## due on 02/04/2019\n",
    "\n",
    "to submit the assignment, please do the following:\n",
    "\n",
    "- do `Cell -> All output -> Clear` to clear all your output\n",
    "- save the notebook (CA3.ipynb)"
   ]
  },
  {
   "cell_type": "markdown",
   "metadata": {},
   "source": [
    "# The Boston Housing Data\n",
    "\n",
    "Consider the data in  `keras.datasets.boston_housing`. In this case, there are only about 400 training datasets, where each dataset consists of 13 input values which are characteristic for a given property. The output corresponds to the property price. The meaning of the various columns is explained in https://www.kaggle.com/c/boston-housing.\n",
    "\n",
    "In contrast to the previous examples, which were categorisation problems, this is now a regression problem. The challenge is to train a network, which is able to predict the price of the property. \n",
    "\n",
    "You will again find lots of examples on the internet, and it is okay to use inspiration as long as you provide the source. \n",
    "\n",
    "Adhere to the following rules:\n",
    "\n",
    "- Train the network on the logarithm of the price, not on the price itself. Explain why this makes sense. \n",
    "- You will find many examples, which use `sci-kit learn` or other packages, which we did not do in the course. Do not use them, and restrict yourself to methods and libraries which we covered\n",
    "- Try to find a network, which has the smallest amount of trainable parameters, while still providing good predictions of the price.  Discuss, how small you can go. \n",
    "- Once you have trained the network, explore the correlations which this network predicts:\n",
    "    - Which inputs have a positive price correlation? \n",
    "    - Which inputs have a negative price correlation? \n",
    "    - Which inputs have little/no influence on the price?\n",
    "    \n",
    "  Investigate this by feeding into the network some artificial data, which you obtain from the testing data by varying one of the input columns.\n",
    "  \n",
    "  \n",
    "Optional challenge (no extra points but extra insight!):\n",
    "\n",
    "Compare the results with standard regression methods, for example as in ST4060/ST4061 in case you have covered them. \n",
    "\n"
   ]
  },
  {
   "cell_type": "code",
   "execution_count": 75,
   "metadata": {
    "deletable": false,
    "nbgrader": {
     "checksum": "c11fa0c01e83508e2b3055f97bb94ad2",
     "grade": true,
     "grade_id": "cell-62578aed3a4137c9",
     "locked": false,
     "points": 10,
     "schema_version": 1,
     "solution": true
    }
   },
   "outputs": [],
   "source": [
    "(train_x, train_y), (test_x, test_y) = keras.datasets.boston_housing.load_data()\n",
    "\n",
    "# from https://www.cs.toronto.edu/~delve/data/boston/bostonDetail.html\n",
    "var_names = ['CRIM', 'ZN', 'INDUS', 'CHAS', 'NOX', 'RM', 'AGE',\n",
    "             'DIS', 'RAD', 'TAX', 'PTRATIO', 'BLACK', 'LSTAT', 'MEDV']"
   ]
  },
  {
   "cell_type": "code",
   "execution_count": 76,
   "metadata": {},
   "outputs": [],
   "source": [
    "# plt.scatter(range(1, len(train_y) + 1), train_y)"
   ]
  },
  {
   "cell_type": "markdown",
   "metadata": {},
   "source": []
  },
  {
   "cell_type": "code",
   "execution_count": 77,
   "metadata": {},
   "outputs": [],
   "source": [
    "# log_train_y = np.log(train_y)\n",
    "# log_test_y = np.log(test_y)"
   ]
  },
  {
   "cell_type": "markdown",
   "metadata": {},
   "source": [
    "Method to print first n entries in the training data"
   ]
  },
  {
   "cell_type": "code",
   "execution_count": 78,
   "metadata": {},
   "outputs": [],
   "source": [
    "def printFirstN(n):\n",
    "    print((\"{:8}\"*len(var_names)).format(*var_names))\n",
    "    for i in range(10):\n",
    "        print((\"{:<8.4}\"*len(train_x[i])).format(*train_x[i]),\n",
    "         \"{:<8.3}\".format(train_y[i]))"
   ]
  },
  {
   "cell_type": "code",
   "execution_count": 79,
   "metadata": {},
   "outputs": [
    {
     "name": "stdout",
     "output_type": "stream",
     "text": [
      "Train X shape (404, 13)\n",
      "Train Y shape (404,)\n",
      "Test X shape (102, 13)\n",
      "Train Y shape (102,)\n",
      "\n",
      "CRIM    ZN      INDUS   CHAS    NOX     RM      AGE     DIS     RAD     TAX     PTRATIO BLACK   LSTAT   MEDV    \n",
      "1.232   0.0     8.14    0.0     0.538   6.142   91.7    3.977   4.0     307.0   21.0    396.9   18.72    15.2    \n",
      "0.02177 82.5    2.03    0.0     0.415   7.61    15.7    6.27    2.0     348.0   14.7    395.4   3.11     42.3    \n",
      "4.898   0.0     18.1    0.0     0.631   4.97    100.0   1.333   24.0    666.0   20.2    375.5   3.26     50.0    \n",
      "0.03961 0.0     5.19    0.0     0.515   6.037   34.5    5.985   5.0     224.0   20.2    396.9   8.01     21.1    \n",
      "3.693   0.0     18.1    0.0     0.713   6.376   88.4    2.567   24.0    666.0   20.2    391.4   14.65    17.7    \n",
      "0.2839  0.0     7.38    0.0     0.493   5.708   74.3    4.721   5.0     287.0   19.6    391.1   11.74    18.5    \n",
      "9.187   0.0     18.1    0.0     0.7     5.536   100.0   1.58    24.0    666.0   20.2    396.9   23.6     11.3    \n",
      "4.097   0.0     19.58   0.0     0.871   5.468   100.0   1.412   5.0     403.0   14.7    396.9   26.42    15.6    \n",
      "2.155   0.0     19.58   0.0     0.871   5.628   100.0   1.517   5.0     403.0   14.7    169.3   16.65    15.6    \n",
      "1.629   0.0     21.89   0.0     0.624   5.019   100.0   1.439   4.0     437.0   21.2    396.9   34.41    14.4    \n"
     ]
    }
   ],
   "source": [
    "#Explore the data\n",
    "print('Train X shape', train_x.shape)\n",
    "print('Train Y shape', train_y.shape)\n",
    "print('Test X shape', test_x.shape)\n",
    "print('Train Y shape', test_y.shape)\n",
    "print()\n",
    "\n",
    "#inspect a few elements to get an idea of the data\n",
    "\n",
    "printFirstN(10)\n",
    "\n",
    "    "
   ]
  },
  {
   "cell_type": "markdown",
   "metadata": {},
   "source": [
    "It looks like the values of each predictor are very different in scale when compared to each other.\n",
    "This may lead to difficulties in building a good enough model.\n",
    "Hence scale them uniformly."
   ]
  },
  {
   "cell_type": "code",
   "execution_count": 80,
   "metadata": {},
   "outputs": [],
   "source": [
    "# train_x = (train_x - train_x.min(axis=0)) / (train_x.max(axis=0) - train_x.min(axis=0))\n",
    "# test_x = (test_x - test_x.min(axis=0)) / (test_x.max(axis=0) - test_x.min(axis=0))"
   ]
  },
  {
   "cell_type": "code",
   "execution_count": null,
   "metadata": {},
   "outputs": [],
   "source": [
    "# Scaling criteria from https://www.kaggle.com/shanekonaung/boston-housing-price-dataset-with-keras\n",
    "mean = train_x.mean(axis=0)\n",
    "train_x = train_x - mean\n",
    "std = train_x.std(axis=0)\n",
    "train_x = train_x/std\n",
    "\n",
    "test_x = test_x-mean\n",
    "test_x = test_x/std"
   ]
  },
  {
   "cell_type": "code",
   "execution_count": 81,
   "metadata": {},
   "outputs": [
    {
     "name": "stdout",
     "output_type": "stream",
     "text": [
      "CRIM    ZN      INDUS   CHAS    NOX     RM      AGE     DIS     RAD     TAX     PTRATIO BLACK   LSTAT   MEDV    \n",
      "1.232   0.0     8.14    0.0     0.538   6.142   91.7    3.977   4.0     307.0   21.0    396.9   18.72    15.2    \n",
      "0.02177 82.5    2.03    0.0     0.415   7.61    15.7    6.27    2.0     348.0   14.7    395.4   3.11     42.3    \n",
      "4.898   0.0     18.1    0.0     0.631   4.97    100.0   1.333   24.0    666.0   20.2    375.5   3.26     50.0    \n",
      "0.03961 0.0     5.19    0.0     0.515   6.037   34.5    5.985   5.0     224.0   20.2    396.9   8.01     21.1    \n",
      "3.693   0.0     18.1    0.0     0.713   6.376   88.4    2.567   24.0    666.0   20.2    391.4   14.65    17.7    \n",
      "0.2839  0.0     7.38    0.0     0.493   5.708   74.3    4.721   5.0     287.0   19.6    391.1   11.74    18.5    \n",
      "9.187   0.0     18.1    0.0     0.7     5.536   100.0   1.58    24.0    666.0   20.2    396.9   23.6     11.3    \n",
      "4.097   0.0     19.58   0.0     0.871   5.468   100.0   1.412   5.0     403.0   14.7    396.9   26.42    15.6    \n",
      "2.155   0.0     19.58   0.0     0.871   5.628   100.0   1.517   5.0     403.0   14.7    169.3   16.65    15.6    \n",
      "1.629   0.0     21.89   0.0     0.624   5.019   100.0   1.439   4.0     437.0   21.2    396.9   34.41    14.4    \n"
     ]
    }
   ],
   "source": [
    "printFirstN(10)"
   ]
  },
  {
   "cell_type": "code",
   "execution_count": 82,
   "metadata": {},
   "outputs": [],
   "source": []
  },
  {
   "cell_type": "code",
   "execution_count": 83,
   "metadata": {},
   "outputs": [
    {
     "name": "stdout",
     "output_type": "stream",
     "text": [
      "CPU times: user 4 µs, sys: 1e+03 ns, total: 5 µs\n",
      "Wall time: 7.39 µs\n",
      "Train on 404 samples, validate on 102 samples\n",
      "Epoch 1/100\n",
      "404/404 [==============================] - 2s 4ms/step - loss: 50.3095 - mean_absolute_error: 4.4970 - val_loss: 38.1558 - val_mean_absolute_error: 4.6507\n",
      "Epoch 2/100\n",
      "404/404 [==============================] - 1s 3ms/step - loss: 19.2780 - mean_absolute_error: 3.0577 - val_loss: 38.1947 - val_mean_absolute_error: 4.6582\n",
      "Epoch 3/100\n",
      "404/404 [==============================] - 1s 3ms/step - loss: 15.8500 - mean_absolute_error: 2.9522 - val_loss: 24.0080 - val_mean_absolute_error: 3.3687\n",
      "Epoch 4/100\n",
      "404/404 [==============================] - 1s 4ms/step - loss: 15.1637 - mean_absolute_error: 2.7932 - val_loss: 20.1037 - val_mean_absolute_error: 3.1096\n",
      "Epoch 5/100\n",
      "404/404 [==============================] - 2s 4ms/step - loss: 13.3625 - mean_absolute_error: 2.5774 - val_loss: 17.0277 - val_mean_absolute_error: 2.7855\n",
      "Epoch 6/100\n",
      "404/404 [==============================] - 3s 7ms/step - loss: 12.8929 - mean_absolute_error: 2.6305 - val_loss: 16.2820 - val_mean_absolute_error: 2.7349\n",
      "Epoch 7/100\n",
      "404/404 [==============================] - 2s 4ms/step - loss: 11.9687 - mean_absolute_error: 2.5384 - val_loss: 19.2389 - val_mean_absolute_error: 2.9084\n",
      "Epoch 8/100\n",
      "404/404 [==============================] - 2s 4ms/step - loss: 12.3283 - mean_absolute_error: 2.4811 - val_loss: 19.1057 - val_mean_absolute_error: 2.8293\n",
      "Epoch 9/100\n",
      "404/404 [==============================] - 2s 4ms/step - loss: 11.9704 - mean_absolute_error: 2.4394 - val_loss: 36.2170 - val_mean_absolute_error: 4.2878\n",
      "Epoch 10/100\n",
      "404/404 [==============================] - 2s 4ms/step - loss: 10.9206 - mean_absolute_error: 2.3743 - val_loss: 20.9171 - val_mean_absolute_error: 2.8456\n",
      "Epoch 11/100\n",
      "404/404 [==============================] - 2s 4ms/step - loss: 11.0378 - mean_absolute_error: 2.3231 - val_loss: 21.5341 - val_mean_absolute_error: 3.2495\n",
      "Epoch 12/100\n",
      "404/404 [==============================] - 2s 4ms/step - loss: 10.1688 - mean_absolute_error: 2.1909 - val_loss: 16.4578 - val_mean_absolute_error: 2.7728\n",
      "Epoch 13/100\n",
      "404/404 [==============================] - 2s 4ms/step - loss: 10.7634 - mean_absolute_error: 2.3062 - val_loss: 22.7523 - val_mean_absolute_error: 3.3315\n",
      "Epoch 14/100\n",
      "404/404 [==============================] - 2s 4ms/step - loss: 10.5037 - mean_absolute_error: 2.2627 - val_loss: 17.2390 - val_mean_absolute_error: 2.5517\n",
      "Epoch 15/100\n",
      "404/404 [==============================] - 2s 4ms/step - loss: 9.7129 - mean_absolute_error: 2.2733 - val_loss: 15.8547 - val_mean_absolute_error: 2.5618\n",
      "Epoch 16/100\n",
      "404/404 [==============================] - 2s 5ms/step - loss: 9.5283 - mean_absolute_error: 2.2129 - val_loss: 14.7692 - val_mean_absolute_error: 2.5840\n",
      "Epoch 17/100\n",
      "404/404 [==============================] - 3s 8ms/step - loss: 8.9603 - mean_absolute_error: 2.1827 - val_loss: 19.0357 - val_mean_absolute_error: 2.7843\n",
      "Epoch 18/100\n",
      "404/404 [==============================] - 3s 7ms/step - loss: 8.5935 - mean_absolute_error: 2.0703 - val_loss: 20.2196 - val_mean_absolute_error: 2.7021\n",
      "Epoch 19/100\n",
      "404/404 [==============================] - 2s 5ms/step - loss: 9.1972 - mean_absolute_error: 2.1356 - val_loss: 20.9542 - val_mean_absolute_error: 3.1208\n",
      "Epoch 20/100\n",
      "404/404 [==============================] - 2s 4ms/step - loss: 9.1022 - mean_absolute_error: 2.1213 - val_loss: 17.4341 - val_mean_absolute_error: 2.9484\n",
      "Epoch 21/100\n",
      "404/404 [==============================] - 2s 6ms/step - loss: 8.7948 - mean_absolute_error: 2.1180 - val_loss: 23.7339 - val_mean_absolute_error: 3.6816\n",
      "Epoch 22/100\n",
      "404/404 [==============================] - 3s 7ms/step - loss: 8.3843 - mean_absolute_error: 2.0299 - val_loss: 20.1656 - val_mean_absolute_error: 3.0995\n",
      "Epoch 23/100\n",
      "404/404 [==============================] - 3s 7ms/step - loss: 7.9012 - mean_absolute_error: 1.9933 - val_loss: 19.5717 - val_mean_absolute_error: 2.9899\n",
      "Epoch 24/100\n",
      "404/404 [==============================] - 3s 7ms/step - loss: 8.4434 - mean_absolute_error: 2.0630 - val_loss: 18.3038 - val_mean_absolute_error: 2.8219\n",
      "Epoch 25/100\n",
      "404/404 [==============================] - 3s 7ms/step - loss: 7.9302 - mean_absolute_error: 1.9899 - val_loss: 15.5976 - val_mean_absolute_error: 2.5001\n",
      "Epoch 26/100\n",
      "404/404 [==============================] - 2s 4ms/step - loss: 8.3276 - mean_absolute_error: 2.0526 - val_loss: 20.8620 - val_mean_absolute_error: 3.0075\n",
      "Epoch 27/100\n",
      "404/404 [==============================] - 2s 4ms/step - loss: 7.6633 - mean_absolute_error: 1.9583 - val_loss: 21.8504 - val_mean_absolute_error: 3.4197\n",
      "Epoch 28/100\n",
      "404/404 [==============================] - 2s 5ms/step - loss: 7.7262 - mean_absolute_error: 1.9326 - val_loss: 20.7224 - val_mean_absolute_error: 3.4614\n",
      "Epoch 29/100\n",
      "404/404 [==============================] - 2s 5ms/step - loss: 7.4859 - mean_absolute_error: 1.9323 - val_loss: 16.2319 - val_mean_absolute_error: 2.7015\n",
      "Epoch 30/100\n",
      "404/404 [==============================] - 2s 6ms/step - loss: 7.6300 - mean_absolute_error: 1.9412 - val_loss: 17.4946 - val_mean_absolute_error: 2.6880\n",
      "Epoch 31/100\n",
      "404/404 [==============================] - 3s 7ms/step - loss: 7.2021 - mean_absolute_error: 1.8970 - val_loss: 16.6743 - val_mean_absolute_error: 2.8525\n",
      "Epoch 32/100\n",
      "404/404 [==============================] - 3s 7ms/step - loss: 7.6313 - mean_absolute_error: 1.9670 - val_loss: 14.4350 - val_mean_absolute_error: 2.4702\n",
      "Epoch 33/100\n",
      "404/404 [==============================] - 3s 7ms/step - loss: 7.3606 - mean_absolute_error: 1.9179 - val_loss: 13.6846 - val_mean_absolute_error: 2.4233\n",
      "Epoch 34/100\n",
      "404/404 [==============================] - 3s 6ms/step - loss: 6.8908 - mean_absolute_error: 1.8644 - val_loss: 18.4674 - val_mean_absolute_error: 3.1238\n",
      "Epoch 35/100\n",
      "404/404 [==============================] - 2s 4ms/step - loss: 7.1767 - mean_absolute_error: 1.9521 - val_loss: 12.3639 - val_mean_absolute_error: 2.5670\n",
      "Epoch 36/100\n",
      "404/404 [==============================] - 2s 4ms/step - loss: 6.5311 - mean_absolute_error: 1.8611 - val_loss: 25.1596 - val_mean_absolute_error: 3.4638\n",
      "Epoch 37/100\n",
      "404/404 [==============================] - 2s 4ms/step - loss: 6.7199 - mean_absolute_error: 1.8626 - val_loss: 13.2391 - val_mean_absolute_error: 2.3952\n",
      "Epoch 38/100\n",
      "404/404 [==============================] - 3s 7ms/step - loss: 6.4117 - mean_absolute_error: 1.8372 - val_loss: 19.9805 - val_mean_absolute_error: 3.3345\n",
      "Epoch 39/100\n",
      "404/404 [==============================] - 3s 7ms/step - loss: 6.7158 - mean_absolute_error: 1.8750 - val_loss: 17.8328 - val_mean_absolute_error: 3.0403\n",
      "Epoch 40/100\n",
      "404/404 [==============================] - 2s 4ms/step - loss: 6.4781 - mean_absolute_error: 1.8422 - val_loss: 14.7031 - val_mean_absolute_error: 2.6750\n",
      "Epoch 41/100\n",
      "404/404 [==============================] - 2s 4ms/step - loss: 6.2236 - mean_absolute_error: 1.7370 - val_loss: 12.3413 - val_mean_absolute_error: 2.4640\n",
      "Epoch 42/100\n",
      "404/404 [==============================] - 2s 4ms/step - loss: 5.8364 - mean_absolute_error: 1.6953 - val_loss: 23.3571 - val_mean_absolute_error: 3.4812\n",
      "Epoch 43/100\n",
      "404/404 [==============================] - 2s 4ms/step - loss: 6.1480 - mean_absolute_error: 1.7394 - val_loss: 12.2464 - val_mean_absolute_error: 2.3465\n",
      "Epoch 44/100\n",
      "404/404 [==============================] - 2s 4ms/step - loss: 5.6743 - mean_absolute_error: 1.6617 - val_loss: 12.7506 - val_mean_absolute_error: 2.4327\n",
      "Epoch 45/100\n",
      "404/404 [==============================] - 2s 4ms/step - loss: 5.9621 - mean_absolute_error: 1.7245 - val_loss: 14.2394 - val_mean_absolute_error: 2.6618\n",
      "Epoch 46/100\n",
      "404/404 [==============================] - 2s 4ms/step - loss: 6.1106 - mean_absolute_error: 1.6941 - val_loss: 20.5856 - val_mean_absolute_error: 3.5454\n",
      "Epoch 47/100\n",
      "404/404 [==============================] - 2s 4ms/step - loss: 6.1178 - mean_absolute_error: 1.8007 - val_loss: 12.3162 - val_mean_absolute_error: 2.4491\n",
      "Epoch 48/100\n",
      "404/404 [==============================] - 2s 4ms/step - loss: 6.2913 - mean_absolute_error: 1.8003 - val_loss: 11.2355 - val_mean_absolute_error: 2.2658\n",
      "Epoch 49/100\n"
     ]
    },
    {
     "name": "stdout",
     "output_type": "stream",
     "text": [
      "404/404 [==============================] - 2s 4ms/step - loss: 5.7513 - mean_absolute_error: 1.7247 - val_loss: 10.8557 - val_mean_absolute_error: 2.2706\n",
      "Epoch 50/100\n",
      "404/404 [==============================] - 2s 6ms/step - loss: 5.6872 - mean_absolute_error: 1.6500 - val_loss: 12.9421 - val_mean_absolute_error: 2.5898\n",
      "Epoch 51/100\n",
      "404/404 [==============================] - 2s 6ms/step - loss: 5.5464 - mean_absolute_error: 1.6649 - val_loss: 13.7464 - val_mean_absolute_error: 2.4430\n",
      "Epoch 52/100\n",
      "404/404 [==============================] - 2s 4ms/step - loss: 6.0361 - mean_absolute_error: 1.7420 - val_loss: 12.5360 - val_mean_absolute_error: 2.3360\n",
      "Epoch 53/100\n",
      "404/404 [==============================] - 2s 4ms/step - loss: 5.4592 - mean_absolute_error: 1.6347 - val_loss: 13.3135 - val_mean_absolute_error: 2.5687\n",
      "Epoch 54/100\n",
      "404/404 [==============================] - 2s 5ms/step - loss: 5.8270 - mean_absolute_error: 1.6728 - val_loss: 11.8394 - val_mean_absolute_error: 2.2590\n",
      "Epoch 55/100\n",
      "404/404 [==============================] - 2s 6ms/step - loss: 5.2366 - mean_absolute_error: 1.6224 - val_loss: 12.2162 - val_mean_absolute_error: 2.4742\n",
      "Epoch 56/100\n",
      "404/404 [==============================] - 2s 4ms/step - loss: 5.6899 - mean_absolute_error: 1.6684 - val_loss: 15.6351 - val_mean_absolute_error: 3.0469\n",
      "Epoch 57/100\n",
      "404/404 [==============================] - 2s 4ms/step - loss: 5.1200 - mean_absolute_error: 1.6434 - val_loss: 12.8666 - val_mean_absolute_error: 2.5917\n",
      "Epoch 58/100\n",
      "404/404 [==============================] - 2s 4ms/step - loss: 5.2294 - mean_absolute_error: 1.6253 - val_loss: 16.1214 - val_mean_absolute_error: 2.7712\n",
      "Epoch 59/100\n",
      "404/404 [==============================] - 2s 4ms/step - loss: 5.4949 - mean_absolute_error: 1.6346 - val_loss: 12.5423 - val_mean_absolute_error: 2.4232\n",
      "Epoch 60/100\n",
      "404/404 [==============================] - 2s 4ms/step - loss: 5.3609 - mean_absolute_error: 1.5908 - val_loss: 13.9597 - val_mean_absolute_error: 2.4600\n",
      "Epoch 61/100\n",
      "404/404 [==============================] - 2s 4ms/step - loss: 5.0786 - mean_absolute_error: 1.6018 - val_loss: 13.3065 - val_mean_absolute_error: 2.5287\n",
      "Epoch 62/100\n",
      "404/404 [==============================] - 2s 4ms/step - loss: 4.9242 - mean_absolute_error: 1.5723 - val_loss: 13.0094 - val_mean_absolute_error: 2.6195\n",
      "Epoch 63/100\n",
      "404/404 [==============================] - 2s 4ms/step - loss: 5.6568 - mean_absolute_error: 1.6588 - val_loss: 12.4813 - val_mean_absolute_error: 2.5163\n",
      "Epoch 64/100\n",
      "404/404 [==============================] - 2s 4ms/step - loss: 4.8637 - mean_absolute_error: 1.5211 - val_loss: 12.1308 - val_mean_absolute_error: 2.4831\n",
      "Epoch 65/100\n",
      "404/404 [==============================] - 2s 4ms/step - loss: 4.6942 - mean_absolute_error: 1.5442 - val_loss: 13.7463 - val_mean_absolute_error: 2.6322\n",
      "Epoch 66/100\n",
      "404/404 [==============================] - 2s 4ms/step - loss: 5.2643 - mean_absolute_error: 1.5849 - val_loss: 10.9980 - val_mean_absolute_error: 2.3099\n",
      "Epoch 67/100\n",
      "404/404 [==============================] - 2s 4ms/step - loss: 4.5172 - mean_absolute_error: 1.4860 - val_loss: 13.6664 - val_mean_absolute_error: 2.6206\n",
      "Epoch 68/100\n",
      "404/404 [==============================] - 2s 4ms/step - loss: 5.0241 - mean_absolute_error: 1.5797 - val_loss: 13.9158 - val_mean_absolute_error: 2.4424\n",
      "Epoch 69/100\n",
      "404/404 [==============================] - 2s 4ms/step - loss: 5.2289 - mean_absolute_error: 1.6410 - val_loss: 10.7902 - val_mean_absolute_error: 2.3047\n",
      "Epoch 70/100\n",
      "404/404 [==============================] - 2s 4ms/step - loss: 4.8131 - mean_absolute_error: 1.5231 - val_loss: 11.5936 - val_mean_absolute_error: 2.4613\n",
      "Epoch 71/100\n",
      "404/404 [==============================] - 2s 4ms/step - loss: 4.7220 - mean_absolute_error: 1.5394 - val_loss: 11.4893 - val_mean_absolute_error: 2.5684\n",
      "Epoch 72/100\n",
      "404/404 [==============================] - 2s 4ms/step - loss: 4.7043 - mean_absolute_error: 1.5243 - val_loss: 11.4847 - val_mean_absolute_error: 2.3121\n",
      "Epoch 73/100\n",
      "404/404 [==============================] - 2s 4ms/step - loss: 4.5595 - mean_absolute_error: 1.4883 - val_loss: 11.9704 - val_mean_absolute_error: 2.3720\n",
      "Epoch 74/100\n",
      "404/404 [==============================] - 2s 4ms/step - loss: 4.3456 - mean_absolute_error: 1.5237 - val_loss: 10.1837 - val_mean_absolute_error: 2.1131\n",
      "Epoch 75/100\n",
      "404/404 [==============================] - 2s 4ms/step - loss: 3.9442 - mean_absolute_error: 1.4539 - val_loss: 12.0849 - val_mean_absolute_error: 2.5618\n",
      "Epoch 76/100\n",
      "404/404 [==============================] - 2s 4ms/step - loss: 4.7306 - mean_absolute_error: 1.5200 - val_loss: 10.7177 - val_mean_absolute_error: 2.2803\n",
      "Epoch 77/100\n",
      "404/404 [==============================] - 2s 4ms/step - loss: 3.9946 - mean_absolute_error: 1.4453 - val_loss: 11.9517 - val_mean_absolute_error: 2.5359\n",
      "Epoch 78/100\n",
      "404/404 [==============================] - 2s 4ms/step - loss: 4.3905 - mean_absolute_error: 1.4760 - val_loss: 11.8660 - val_mean_absolute_error: 2.4665\n",
      "Epoch 79/100\n",
      "404/404 [==============================] - 2s 4ms/step - loss: 4.1731 - mean_absolute_error: 1.4455 - val_loss: 11.1592 - val_mean_absolute_error: 2.2900\n",
      "Epoch 80/100\n",
      "404/404 [==============================] - 2s 4ms/step - loss: 4.5755 - mean_absolute_error: 1.4396 - val_loss: 11.1143 - val_mean_absolute_error: 2.2782\n",
      "Epoch 81/100\n",
      "404/404 [==============================] - 2s 4ms/step - loss: 4.4208 - mean_absolute_error: 1.4657 - val_loss: 12.6263 - val_mean_absolute_error: 2.6598\n",
      "Epoch 82/100\n",
      "404/404 [==============================] - 2s 4ms/step - loss: 4.2635 - mean_absolute_error: 1.4362 - val_loss: 11.8731 - val_mean_absolute_error: 2.3722\n",
      "Epoch 83/100\n",
      "404/404 [==============================] - 2s 4ms/step - loss: 4.0082 - mean_absolute_error: 1.4171 - val_loss: 14.1431 - val_mean_absolute_error: 2.6559\n",
      "Epoch 84/100\n",
      "404/404 [==============================] - 2s 4ms/step - loss: 4.1405 - mean_absolute_error: 1.5122 - val_loss: 13.6761 - val_mean_absolute_error: 2.7560\n",
      "Epoch 85/100\n",
      "404/404 [==============================] - 2s 4ms/step - loss: 3.6564 - mean_absolute_error: 1.3466 - val_loss: 12.8539 - val_mean_absolute_error: 2.6039\n",
      "Epoch 86/100\n",
      "404/404 [==============================] - 2s 4ms/step - loss: 4.1473 - mean_absolute_error: 1.4385 - val_loss: 10.9550 - val_mean_absolute_error: 2.3563\n",
      "Epoch 87/100\n",
      "404/404 [==============================] - 2s 4ms/step - loss: 3.9995 - mean_absolute_error: 1.4262 - val_loss: 10.2413 - val_mean_absolute_error: 2.3064\n",
      "Epoch 88/100\n",
      "404/404 [==============================] - 2s 4ms/step - loss: 3.9552 - mean_absolute_error: 1.4034 - val_loss: 13.0751 - val_mean_absolute_error: 2.6862\n",
      "Epoch 89/100\n",
      "404/404 [==============================] - 2s 4ms/step - loss: 3.8623 - mean_absolute_error: 1.4403 - val_loss: 13.6334 - val_mean_absolute_error: 2.8147\n",
      "Epoch 90/100\n",
      "404/404 [==============================] - 2s 4ms/step - loss: 3.8500 - mean_absolute_error: 1.3859 - val_loss: 13.4505 - val_mean_absolute_error: 2.6163\n",
      "Epoch 91/100\n",
      "404/404 [==============================] - 2s 4ms/step - loss: 3.5288 - mean_absolute_error: 1.3429 - val_loss: 10.1085 - val_mean_absolute_error: 2.1730\n",
      "Epoch 92/100\n",
      "404/404 [==============================] - 2s 4ms/step - loss: 3.7195 - mean_absolute_error: 1.4259 - val_loss: 10.7338 - val_mean_absolute_error: 2.1975\n",
      "Epoch 93/100\n",
      "404/404 [==============================] - 2s 4ms/step - loss: 4.0750 - mean_absolute_error: 1.3815 - val_loss: 12.4546 - val_mean_absolute_error: 2.4991\n",
      "Epoch 94/100\n",
      "404/404 [==============================] - 2s 4ms/step - loss: 3.9978 - mean_absolute_error: 1.4333 - val_loss: 11.2159 - val_mean_absolute_error: 2.2614\n",
      "Epoch 95/100\n",
      "404/404 [==============================] - 2s 4ms/step - loss: 3.6153 - mean_absolute_error: 1.3950 - val_loss: 11.0134 - val_mean_absolute_error: 2.4285\n",
      "Epoch 96/100\n",
      "404/404 [==============================] - 2s 4ms/step - loss: 3.7519 - mean_absolute_error: 1.4141 - val_loss: 9.6561 - val_mean_absolute_error: 2.1584\n",
      "Epoch 97/100\n",
      "404/404 [==============================] - 2s 4ms/step - loss: 3.7511 - mean_absolute_error: 1.3454 - val_loss: 12.3569 - val_mean_absolute_error: 2.6897\n",
      "Epoch 98/100\n"
     ]
    },
    {
     "name": "stdout",
     "output_type": "stream",
     "text": [
      "404/404 [==============================] - 2s 4ms/step - loss: 3.4227 - mean_absolute_error: 1.3638 - val_loss: 13.3473 - val_mean_absolute_error: 2.5356\n",
      "Epoch 99/100\n",
      "404/404 [==============================] - 2s 4ms/step - loss: 3.4197 - mean_absolute_error: 1.3722 - val_loss: 10.9520 - val_mean_absolute_error: 2.3194\n",
      "Epoch 100/100\n",
      "404/404 [==============================] - 2s 4ms/step - loss: 3.7563 - mean_absolute_error: 1.4275 - val_loss: 12.0048 - val_mean_absolute_error: 2.3858\n"
     ]
    }
   ],
   "source": [
    "%time\n",
    "\n",
    "model = keras.models.Sequential()\n",
    "model.add(keras.layers.Dense(512, activation=tf.nn.relu, input_shape=(train_x.shape[1],)))\n",
    "model.add(keras.layers.Dense(512, activation=tf.nn.relu))\n",
    "model.add(keras.layers.Dense(1))\n",
    "\n",
    "model.compile(optimizer='rmsprop', loss='mean_squared_error', metrics=['mae'])\n",
    "\n",
    "fit_result = model.fit(train_x, train_y, epochs=100, batch_size=1, validation_data=(test_x, test_y))\n"
   ]
  },
  {
   "cell_type": "code",
   "execution_count": 85,
   "metadata": {},
   "outputs": [],
   "source": [
    "history = fit_result.history"
   ]
  },
  {
   "cell_type": "code",
   "execution_count": 86,
   "metadata": {},
   "outputs": [
    {
     "data": {
      "text/plain": [
       "<matplotlib.legend.Legend at 0x7facc9e5f8d0>"
      ]
     },
     "execution_count": 86,
     "metadata": {},
     "output_type": "execute_result"
    },
    {
     "data": {
      "image/png": "[encoded data removed]",
      "text/plain": [
       "<matplotlib.figure.Figure at 0x7face8709cf8>"
      ]
     },
     "metadata": {},
     "output_type": "display_data"
    }
   ],
   "source": [
    "plt.plot(fit_result.epoch, history['mean_absolute_error'], 'b', label='Training MAE')\n",
    "plt.plot(fit_result.epoch, history['val_mean_absolute_error'], 'r', label='Validation MAE')\n",
    "plt.title('Accuracy')\n",
    "plt.xlabel('Epochs')\n",
    "plt.ylabel('Accuracy')\n",
    "plt.legend()"
   ]
  },
  {
   "cell_type": "markdown",
   "metadata": {},
   "source": [
    "The plot says that although the training MAE goes down almost monotonously, the test MAE remains more or less constant after about 60 epochs. This hints that the model has been overfitted."
   ]
  },
  {
   "cell_type": "code",
   "execution_count": 73,
   "metadata": {},
   "outputs": [
    {
     "name": "stdout",
     "output_type": "stream",
     "text": [
      "Once deleted, variables cannot be recovered. Proceed (y/[n])? y\n"
     ]
    }
   ],
   "source": [
    "%reset"
   ]
  },
  {
   "cell_type": "code",
   "execution_count": null,
   "metadata": {},
   "outputs": [],
   "source": []
  }
 ],
 "metadata": {
  "kernelspec": {
   "display_name": "Python (tensorflow)",
   "language": "python",
   "name": "tensorflow"
  },
  "language_info": {
   "codemirror_mode": {
    "name": "ipython",
    "version": 3
   },
   "file_extension": ".py",
   "mimetype": "text/x-python",
   "name": "python",
   "nbconvert_exporter": "python",
   "pygments_lexer": "ipython3",
   "version": "3.6.7"
  }
 },
 "nbformat": 4,
 "nbformat_minor": 2
}
