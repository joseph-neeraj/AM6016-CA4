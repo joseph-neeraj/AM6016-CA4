{
 "cells": [
  {
   "cell_type": "code",
   "execution_count": 52,
   "metadata": {},
   "outputs": [
    {
     "name": "stdout",
     "output_type": "stream",
     "text": [
      "1.12.0\n",
      "2.1.6-tf\n"
     ]
    }
   ],
   "source": [
    "# execute this cell before you start\n",
    "\n",
    "import tensorflow as tf\n",
    "from tensorflow.keras import layers\n",
    "\n",
    "# Helper libraries\n",
    "import numpy as np\n",
    "import matplotlib.pyplot as plt\n",
    "from tensorflow import keras\n",
    "\n",
    "print(tf.VERSION)\n",
    "print(tf.keras.__version__)\n"
   ]
  },
  {
   "cell_type": "markdown",
   "metadata": {},
   "source": [
    "#  CA4\n",
    "## due on 02/04/2019\n",
    "\n",
    "to submit the assignment, please do the following:\n",
    "\n",
    "- do `Cell -> All output -> Clear` to clear all your output\n",
    "- save the notebook (CA3.ipynb)"
   ]
  },
  {
   "cell_type": "markdown",
   "metadata": {},
   "source": [
    "# The Boston Housing Data\n",
    "\n",
    "Consider the data in  `keras.datasets.boston_housing`. In this case, there are only about 400 training datasets, where each dataset consists of 13 input values which are characteristic for a given property. The output corresponds to the property price. The meaning of the various columns is explained in https://www.kaggle.com/c/boston-housing.\n",
    "\n",
    "In contrast to the previous examples, which were categorisation problems, this is now a regression problem. The challenge is to train a network, which is able to predict the price of the property. \n",
    "\n",
    "You will again find lots of examples on the internet, and it is okay to use inspiration as long as you provide the source. \n",
    "\n",
    "Adhere to the following rules:\n",
    "\n",
    "a) Train the network on the logarithm of the price, not on the price itself. Explain why this makes sense. \n",
    "\n",
    "b) You will find many examples, which use `sci-kit learn` or other packages, which we did not do in the course. Do not use them, and restrict yourself to methods and libraries which we covered\n",
    "\n",
    "c) Try to find a network, which has the smallest amount of trainable parameters, while still providing good predictions of the price.  Discuss, how small you can go. \n",
    "\n",
    "d) Once you have trained the network, explore the correlations which this network predicts:\n",
    "    - Which inputs have a positive price correlation? \n",
    "    - Which inputs have a negative price correlation? \n",
    "    - Which inputs have little/no influence on the price?\n",
    "    \n",
    "  Investigate this by feeding into the network some artificial data, which you obtain from the testing data by varying one of the input columns.\n",
    "  \n",
    "  \n",
    "Optional challenge (no extra points but extra insight!):\n",
    "\n",
    "Compare the results with standard regression methods, for example as in ST4060/ST4061 in case you have covered them. \n",
    "\n"
   ]
  },
  {
   "cell_type": "code",
   "execution_count": 53,
   "metadata": {
    "deletable": false,
    "nbgrader": {
     "checksum": "c11fa0c01e83508e2b3055f97bb94ad2",
     "grade": true,
     "grade_id": "cell-62578aed3a4137c9",
     "locked": false,
     "points": 10,
     "schema_version": 1,
     "solution": true
    }
   },
   "outputs": [],
   "source": [
    "(train_x, train_y), (test_x, test_y) = keras.datasets.boston_housing.load_data()\n",
    "\n",
    "# from https://www.cs.toronto.edu/~delve/data/boston/bostonDetail.html\n",
    "var_names = ['CRIM', 'ZN', 'INDUS', 'CHAS', 'NOX', 'RM', 'AGE',\n",
    "             'DIS', 'RAD', 'TAX', 'PTRATIO', 'BLACK', 'LSTAT', 'MEDV']"
   ]
  },
  {
   "cell_type": "code",
   "execution_count": 54,
   "metadata": {},
   "outputs": [],
   "source": [
    "# plt.scatter(range(1, len(train_y) + 1), train_y)"
   ]
  },
  {
   "cell_type": "markdown",
   "metadata": {},
   "source": []
  },
  {
   "cell_type": "code",
   "execution_count": 55,
   "metadata": {},
   "outputs": [],
   "source": [
    "# log_train_y = np.log(train_y)\n",
    "# log_test_y = np.log(test_y)"
   ]
  },
  {
   "cell_type": "markdown",
   "metadata": {},
   "source": [
    "Method to print first n entries in the training data"
   ]
  },
  {
   "cell_type": "code",
   "execution_count": 56,
   "metadata": {},
   "outputs": [],
   "source": [
    "def printFirstN(n, x=train_x, y=train_y):\n",
    "    print((\"{:8}\"*len(var_names)).format(*var_names))\n",
    "    for i in range(10):\n",
    "        print((\"{:<8.4}\"*len(x[i])).format(*x[i]),\n",
    "         \"{:<8.3}\".format(y[i]))"
   ]
  },
  {
   "cell_type": "code",
   "execution_count": 57,
   "metadata": {},
   "outputs": [
    {
     "name": "stdout",
     "output_type": "stream",
     "text": [
      "Train X shape (404, 13)\n",
      "Train Y shape (404,)\n",
      "Test X shape (102, 13)\n",
      "Train Y shape (102,)\n",
      "\n",
      "CRIM    ZN      INDUS   CHAS    NOX     RM      AGE     DIS     RAD     TAX     PTRATIO BLACK   LSTAT   MEDV    \n",
      "1.232   0.0     8.14    0.0     0.538   6.142   91.7    3.977   4.0     307.0   21.0    396.9   18.72    15.2    \n",
      "0.02177 82.5    2.03    0.0     0.415   7.61    15.7    6.27    2.0     348.0   14.7    395.4   3.11     42.3    \n",
      "4.898   0.0     18.1    0.0     0.631   4.97    100.0   1.333   24.0    666.0   20.2    375.5   3.26     50.0    \n",
      "0.03961 0.0     5.19    0.0     0.515   6.037   34.5    5.985   5.0     224.0   20.2    396.9   8.01     21.1    \n",
      "3.693   0.0     18.1    0.0     0.713   6.376   88.4    2.567   24.0    666.0   20.2    391.4   14.65    17.7    \n",
      "0.2839  0.0     7.38    0.0     0.493   5.708   74.3    4.721   5.0     287.0   19.6    391.1   11.74    18.5    \n",
      "9.187   0.0     18.1    0.0     0.7     5.536   100.0   1.58    24.0    666.0   20.2    396.9   23.6     11.3    \n",
      "4.097   0.0     19.58   0.0     0.871   5.468   100.0   1.412   5.0     403.0   14.7    396.9   26.42    15.6    \n",
      "2.155   0.0     19.58   0.0     0.871   5.628   100.0   1.517   5.0     403.0   14.7    169.3   16.65    15.6    \n",
      "1.629   0.0     21.89   0.0     0.624   5.019   100.0   1.439   4.0     437.0   21.2    396.9   34.41    14.4    \n"
     ]
    }
   ],
   "source": [
    "#Explore the data\n",
    "print('Train X shape', train_x.shape)\n",
    "print('Train Y shape', train_y.shape)\n",
    "print('Test X shape', test_x.shape)\n",
    "print('Train Y shape', test_y.shape)\n",
    "print()\n",
    "\n",
    "#inspect a few elements to get an idea of the data\n",
    "\n",
    "printFirstN(10)\n",
    "\n",
    "    "
   ]
  },
  {
   "cell_type": "markdown",
   "metadata": {},
   "source": [
    "It looks like the values of each predictor are very different in scale when compared to each other.\n",
    "This may lead to difficulties in building a good enough model.\n",
    "Hence scale them uniformly."
   ]
  },
  {
   "cell_type": "code",
   "execution_count": 58,
   "metadata": {},
   "outputs": [],
   "source": [
    "# train_x = (train_x - train_x.min(axis=0)) / (train_x.max(axis=0) - train_x.min(axis=0))\n",
    "# test_x = (test_x - test_x.min(axis=0)) / (test_x.max(axis=0) - test_x.min(axis=0))"
   ]
  },
  {
   "cell_type": "code",
   "execution_count": 59,
   "metadata": {},
   "outputs": [],
   "source": [
    "# Scaling criteria from https://www.kaggle.com/shanekonaung/boston-housing-price-dataset-with-keras\n",
    "mean = train_x.mean(axis=0)\n",
    "train_x = train_x - mean\n",
    "std = train_x.std(axis=0)\n",
    "train_x = train_x/std\n",
    "\n",
    "test_x = test_x-mean\n",
    "test_x = test_x/std"
   ]
  },
  {
   "cell_type": "code",
   "execution_count": 60,
   "metadata": {},
   "outputs": [
    {
     "name": "stdout",
     "output_type": "stream",
     "text": [
      "CRIM    ZN      INDUS   CHAS    NOX     RM      AGE     DIS     RAD     TAX     PTRATIO BLACK   LSTAT   MEDV    \n",
      "1.232   0.0     8.14    0.0     0.538   6.142   91.7    3.977   4.0     307.0   21.0    396.9   18.72    15.2    \n",
      "0.02177 82.5    2.03    0.0     0.415   7.61    15.7    6.27    2.0     348.0   14.7    395.4   3.11     42.3    \n",
      "4.898   0.0     18.1    0.0     0.631   4.97    100.0   1.333   24.0    666.0   20.2    375.5   3.26     50.0    \n",
      "0.03961 0.0     5.19    0.0     0.515   6.037   34.5    5.985   5.0     224.0   20.2    396.9   8.01     21.1    \n",
      "3.693   0.0     18.1    0.0     0.713   6.376   88.4    2.567   24.0    666.0   20.2    391.4   14.65    17.7    \n",
      "0.2839  0.0     7.38    0.0     0.493   5.708   74.3    4.721   5.0     287.0   19.6    391.1   11.74    18.5    \n",
      "9.187   0.0     18.1    0.0     0.7     5.536   100.0   1.58    24.0    666.0   20.2    396.9   23.6     11.3    \n",
      "4.097   0.0     19.58   0.0     0.871   5.468   100.0   1.412   5.0     403.0   14.7    396.9   26.42    15.6    \n",
      "2.155   0.0     19.58   0.0     0.871   5.628   100.0   1.517   5.0     403.0   14.7    169.3   16.65    15.6    \n",
      "1.629   0.0     21.89   0.0     0.624   5.019   100.0   1.439   4.0     437.0   21.2    396.9   34.41    14.4    \n"
     ]
    }
   ],
   "source": [
    "printFirstN(10)"
   ]
  },
  {
   "cell_type": "code",
   "execution_count": null,
   "metadata": {},
   "outputs": [],
   "source": []
  },
  {
   "cell_type": "code",
   "execution_count": 61,
   "metadata": {},
   "outputs": [
    {
     "name": "stdout",
     "output_type": "stream",
     "text": [
      "Train on 404 samples, validate on 102 samples\n",
      "Epoch 1/100\n",
      "404/404 [==============================] - 2s 4ms/step - loss: 59.5747 - mean_absolute_error: 4.8199 - val_loss: 29.5069 - val_mean_absolute_error: 3.9844\n",
      "Epoch 2/100\n",
      "404/404 [==============================] - 2s 4ms/step - loss: 17.0931 - mean_absolute_error: 3.0059 - val_loss: 25.7310 - val_mean_absolute_error: 3.3710\n",
      "Epoch 3/100\n",
      "404/404 [==============================] - 2s 4ms/step - loss: 13.9648 - mean_absolute_error: 2.8875 - val_loss: 26.6897 - val_mean_absolute_error: 3.7107\n",
      "Epoch 4/100\n",
      "404/404 [==============================] - 2s 4ms/step - loss: 14.7564 - mean_absolute_error: 2.8241 - val_loss: 20.5252 - val_mean_absolute_error: 3.1368\n",
      "Epoch 5/100\n",
      "404/404 [==============================] - 2s 4ms/step - loss: 12.7524 - mean_absolute_error: 2.6730 - val_loss: 23.1371 - val_mean_absolute_error: 3.5401\n",
      "Epoch 6/100\n",
      "404/404 [==============================] - 2s 4ms/step - loss: 12.8825 - mean_absolute_error: 2.6835 - val_loss: 16.5118 - val_mean_absolute_error: 2.8037\n",
      "Epoch 7/100\n",
      "404/404 [==============================] - 2s 4ms/step - loss: 11.5570 - mean_absolute_error: 2.5475 - val_loss: 19.2959 - val_mean_absolute_error: 3.2681\n",
      "Epoch 8/100\n",
      "404/404 [==============================] - 2s 4ms/step - loss: 12.1059 - mean_absolute_error: 2.5130 - val_loss: 17.9354 - val_mean_absolute_error: 2.6872\n",
      "Epoch 9/100\n",
      "404/404 [==============================] - 3s 7ms/step - loss: 10.7204 - mean_absolute_error: 2.4225 - val_loss: 39.9556 - val_mean_absolute_error: 4.3977\n",
      "Epoch 10/100\n",
      "404/404 [==============================] - 3s 7ms/step - loss: 11.4250 - mean_absolute_error: 2.5177 - val_loss: 20.8815 - val_mean_absolute_error: 2.9840\n",
      "Epoch 11/100\n",
      "404/404 [==============================] - 3s 8ms/step - loss: 11.3764 - mean_absolute_error: 2.5149 - val_loss: 20.1062 - val_mean_absolute_error: 3.1013\n",
      "Epoch 12/100\n",
      "404/404 [==============================] - 3s 9ms/step - loss: 10.0193 - mean_absolute_error: 2.3897 - val_loss: 19.7711 - val_mean_absolute_error: 2.9235\n",
      "Epoch 13/100\n",
      "404/404 [==============================] - 3s 7ms/step - loss: 10.4490 - mean_absolute_error: 2.3556 - val_loss: 25.9425 - val_mean_absolute_error: 3.3143\n",
      "Epoch 14/100\n",
      "404/404 [==============================] - 2s 6ms/step - loss: 9.6935 - mean_absolute_error: 2.2274 - val_loss: 32.4304 - val_mean_absolute_error: 3.6458\n",
      "Epoch 15/100\n",
      "404/404 [==============================] - 2s 6ms/step - loss: 9.1137 - mean_absolute_error: 2.3159 - val_loss: 16.1512 - val_mean_absolute_error: 2.6069\n",
      "Epoch 16/100\n",
      "404/404 [==============================] - 2s 5ms/step - loss: 8.7651 - mean_absolute_error: 2.2096 - val_loss: 20.2122 - val_mean_absolute_error: 3.4146\n",
      "Epoch 17/100\n",
      "404/404 [==============================] - 2s 5ms/step - loss: 8.8043 - mean_absolute_error: 2.1277 - val_loss: 22.0976 - val_mean_absolute_error: 3.0055\n",
      "Epoch 18/100\n",
      "404/404 [==============================] - 2s 5ms/step - loss: 8.4893 - mean_absolute_error: 2.1474 - val_loss: 21.6342 - val_mean_absolute_error: 2.9296\n",
      "Epoch 19/100\n",
      "404/404 [==============================] - 2s 5ms/step - loss: 10.1546 - mean_absolute_error: 2.2680 - val_loss: 15.1971 - val_mean_absolute_error: 2.5211\n",
      "Epoch 20/100\n",
      "404/404 [==============================] - 2s 5ms/step - loss: 7.7817 - mean_absolute_error: 1.9862 - val_loss: 15.1872 - val_mean_absolute_error: 2.8315\n",
      "Epoch 21/100\n",
      "404/404 [==============================] - 2s 6ms/step - loss: 9.4596 - mean_absolute_error: 2.2565 - val_loss: 21.6328 - val_mean_absolute_error: 3.2479\n",
      "Epoch 22/100\n",
      "404/404 [==============================] - 2s 6ms/step - loss: 8.7695 - mean_absolute_error: 2.0805 - val_loss: 18.4241 - val_mean_absolute_error: 2.8898\n",
      "Epoch 23/100\n",
      "404/404 [==============================] - 2s 6ms/step - loss: 6.7969 - mean_absolute_error: 1.9381 - val_loss: 16.2606 - val_mean_absolute_error: 2.7768\n",
      "Epoch 24/100\n",
      "404/404 [==============================] - 2s 5ms/step - loss: 7.3367 - mean_absolute_error: 2.0266 - val_loss: 16.3031 - val_mean_absolute_error: 2.6590\n",
      "Epoch 25/100\n",
      "404/404 [==============================] - 2s 5ms/step - loss: 8.1468 - mean_absolute_error: 2.1278 - val_loss: 17.4123 - val_mean_absolute_error: 2.7530\n",
      "Epoch 26/100\n",
      "404/404 [==============================] - 2s 5ms/step - loss: 9.4124 - mean_absolute_error: 2.1301 - val_loss: 32.0072 - val_mean_absolute_error: 3.7057\n",
      "Epoch 27/100\n",
      "404/404 [==============================] - 2s 6ms/step - loss: 6.3239 - mean_absolute_error: 1.8753 - val_loss: 25.6123 - val_mean_absolute_error: 3.3480\n",
      "Epoch 28/100\n",
      "404/404 [==============================] - 2s 5ms/step - loss: 6.1453 - mean_absolute_error: 1.8455 - val_loss: 16.9994 - val_mean_absolute_error: 2.7117\n",
      "Epoch 29/100\n",
      "404/404 [==============================] - 2s 5ms/step - loss: 7.3755 - mean_absolute_error: 1.9879 - val_loss: 14.5420 - val_mean_absolute_error: 2.4640\n",
      "Epoch 30/100\n",
      "404/404 [==============================] - 2s 5ms/step - loss: 5.7419 - mean_absolute_error: 1.7725 - val_loss: 16.7617 - val_mean_absolute_error: 2.9877\n",
      "Epoch 31/100\n",
      "404/404 [==============================] - 2s 5ms/step - loss: 6.0470 - mean_absolute_error: 1.8469 - val_loss: 16.6313 - val_mean_absolute_error: 2.7807\n",
      "Epoch 32/100\n",
      "404/404 [==============================] - 2s 5ms/step - loss: 5.8238 - mean_absolute_error: 1.8540 - val_loss: 14.7543 - val_mean_absolute_error: 2.4768\n",
      "Epoch 33/100\n",
      "404/404 [==============================] - 2s 5ms/step - loss: 7.3605 - mean_absolute_error: 1.8807 - val_loss: 11.3405 - val_mean_absolute_error: 2.3015\n",
      "Epoch 34/100\n",
      "404/404 [==============================] - 2s 6ms/step - loss: 6.3052 - mean_absolute_error: 1.7993 - val_loss: 18.1623 - val_mean_absolute_error: 3.0019\n",
      "Epoch 35/100\n",
      "404/404 [==============================] - 2s 6ms/step - loss: 6.2721 - mean_absolute_error: 1.8574 - val_loss: 14.9264 - val_mean_absolute_error: 2.7052\n",
      "Epoch 36/100\n",
      "404/404 [==============================] - 2s 4ms/step - loss: 5.4058 - mean_absolute_error: 1.7599 - val_loss: 15.9467 - val_mean_absolute_error: 2.5437\n",
      "Epoch 37/100\n",
      "404/404 [==============================] - 2s 4ms/step - loss: 5.9127 - mean_absolute_error: 1.7878 - val_loss: 15.4004 - val_mean_absolute_error: 2.8333\n",
      "Epoch 38/100\n",
      "404/404 [==============================] - 2s 4ms/step - loss: 6.0773 - mean_absolute_error: 1.7398 - val_loss: 13.7310 - val_mean_absolute_error: 2.5682\n",
      "Epoch 39/100\n",
      "404/404 [==============================] - 2s 4ms/step - loss: 4.4199 - mean_absolute_error: 1.6067 - val_loss: 20.5519 - val_mean_absolute_error: 2.8127\n",
      "Epoch 40/100\n",
      "404/404 [==============================] - 2s 4ms/step - loss: 3.9973 - mean_absolute_error: 1.4968 - val_loss: 15.5141 - val_mean_absolute_error: 2.6515\n",
      "Epoch 41/100\n",
      "404/404 [==============================] - 2s 4ms/step - loss: 4.4865 - mean_absolute_error: 1.5958 - val_loss: 16.3141 - val_mean_absolute_error: 2.9870\n",
      "Epoch 42/100\n",
      "404/404 [==============================] - 2s 4ms/step - loss: 4.9472 - mean_absolute_error: 1.6856 - val_loss: 18.0385 - val_mean_absolute_error: 2.9060\n",
      "Epoch 43/100\n",
      "404/404 [==============================] - 2s 4ms/step - loss: 4.7081 - mean_absolute_error: 1.6400 - val_loss: 15.3598 - val_mean_absolute_error: 2.6578\n",
      "Epoch 44/100\n",
      "404/404 [==============================] - 2s 4ms/step - loss: 5.1643 - mean_absolute_error: 1.6772 - val_loss: 16.4759 - val_mean_absolute_error: 2.9030\n",
      "Epoch 45/100\n",
      "404/404 [==============================] - 2s 4ms/step - loss: 4.2121 - mean_absolute_error: 1.5210 - val_loss: 14.6465 - val_mean_absolute_error: 2.4184\n",
      "Epoch 46/100\n",
      "404/404 [==============================] - 2s 4ms/step - loss: 6.0760 - mean_absolute_error: 1.7621 - val_loss: 18.1656 - val_mean_absolute_error: 2.7496\n",
      "Epoch 47/100\n",
      "404/404 [==============================] - 2s 4ms/step - loss: 5.0428 - mean_absolute_error: 1.6075 - val_loss: 13.5518 - val_mean_absolute_error: 2.4657\n",
      "Epoch 48/100\n",
      "404/404 [==============================] - 2s 4ms/step - loss: 4.3439 - mean_absolute_error: 1.5764 - val_loss: 16.7440 - val_mean_absolute_error: 2.8678\n",
      "Epoch 49/100\n",
      "404/404 [==============================] - 2s 4ms/step - loss: 3.6395 - mean_absolute_error: 1.4087 - val_loss: 13.7009 - val_mean_absolute_error: 2.4931\n"
     ]
    },
    {
     "name": "stdout",
     "output_type": "stream",
     "text": [
      "Epoch 50/100\n",
      "404/404 [==============================] - 3s 8ms/step - loss: 4.4193 - mean_absolute_error: 1.6242 - val_loss: 16.1845 - val_mean_absolute_error: 2.7746\n",
      "Epoch 51/100\n",
      "404/404 [==============================] - 2s 5ms/step - loss: 5.2183 - mean_absolute_error: 1.7205 - val_loss: 14.6427 - val_mean_absolute_error: 2.5213\n",
      "Epoch 52/100\n",
      "404/404 [==============================] - 2s 5ms/step - loss: 3.7282 - mean_absolute_error: 1.5180 - val_loss: 14.1392 - val_mean_absolute_error: 2.3866\n",
      "Epoch 53/100\n",
      "404/404 [==============================] - 2s 5ms/step - loss: 5.2375 - mean_absolute_error: 1.6694 - val_loss: 17.0006 - val_mean_absolute_error: 3.0897\n",
      "Epoch 54/100\n",
      "404/404 [==============================] - 2s 6ms/step - loss: 5.9294 - mean_absolute_error: 1.6332 - val_loss: 15.4208 - val_mean_absolute_error: 2.5785\n",
      "Epoch 55/100\n",
      "404/404 [==============================] - 2s 4ms/step - loss: 3.4465 - mean_absolute_error: 1.4163 - val_loss: 14.2988 - val_mean_absolute_error: 2.3820\n",
      "Epoch 56/100\n",
      "404/404 [==============================] - 2s 5ms/step - loss: 3.3390 - mean_absolute_error: 1.3815 - val_loss: 18.5820 - val_mean_absolute_error: 3.1627\n",
      "Epoch 57/100\n",
      "404/404 [==============================] - 3s 7ms/step - loss: 3.9486 - mean_absolute_error: 1.5045 - val_loss: 14.2783 - val_mean_absolute_error: 2.3916\n",
      "Epoch 58/100\n",
      "404/404 [==============================] - 2s 5ms/step - loss: 3.3688 - mean_absolute_error: 1.3998 - val_loss: 13.6216 - val_mean_absolute_error: 2.5153\n",
      "Epoch 59/100\n",
      "404/404 [==============================] - 2s 5ms/step - loss: 4.4314 - mean_absolute_error: 1.5455 - val_loss: 16.8052 - val_mean_absolute_error: 2.7246\n",
      "Epoch 60/100\n",
      "404/404 [==============================] - 2s 5ms/step - loss: 3.2690 - mean_absolute_error: 1.3931 - val_loss: 14.2227 - val_mean_absolute_error: 2.3789\n",
      "Epoch 61/100\n",
      "404/404 [==============================] - 2s 5ms/step - loss: 3.7157 - mean_absolute_error: 1.4698 - val_loss: 20.5838 - val_mean_absolute_error: 3.1994\n",
      "Epoch 62/100\n",
      "404/404 [==============================] - 2s 5ms/step - loss: 4.0183 - mean_absolute_error: 1.4713 - val_loss: 14.7573 - val_mean_absolute_error: 2.4341\n",
      "Epoch 63/100\n",
      "404/404 [==============================] - 2s 5ms/step - loss: 3.3523 - mean_absolute_error: 1.4068 - val_loss: 14.3654 - val_mean_absolute_error: 2.4163\n",
      "Epoch 64/100\n",
      "404/404 [==============================] - 2s 5ms/step - loss: 3.6522 - mean_absolute_error: 1.4255 - val_loss: 14.1270 - val_mean_absolute_error: 2.2975\n",
      "Epoch 65/100\n",
      "404/404 [==============================] - 2s 5ms/step - loss: 3.6106 - mean_absolute_error: 1.4417 - val_loss: 15.4226 - val_mean_absolute_error: 2.4648\n",
      "Epoch 66/100\n",
      "404/404 [==============================] - 2s 5ms/step - loss: 3.2596 - mean_absolute_error: 1.3463 - val_loss: 15.5842 - val_mean_absolute_error: 2.7272\n",
      "Epoch 67/100\n",
      "404/404 [==============================] - 2s 5ms/step - loss: 3.8976 - mean_absolute_error: 1.4947 - val_loss: 14.4176 - val_mean_absolute_error: 2.3920\n",
      "Epoch 68/100\n",
      "404/404 [==============================] - 2s 5ms/step - loss: 3.6635 - mean_absolute_error: 1.3763 - val_loss: 15.4487 - val_mean_absolute_error: 2.8268\n",
      "Epoch 69/100\n",
      "404/404 [==============================] - 2s 5ms/step - loss: 3.5160 - mean_absolute_error: 1.3564 - val_loss: 14.5863 - val_mean_absolute_error: 2.5980\n",
      "Epoch 70/100\n",
      "404/404 [==============================] - 2s 5ms/step - loss: 3.3954 - mean_absolute_error: 1.3639 - val_loss: 14.7735 - val_mean_absolute_error: 2.4957\n",
      "Epoch 71/100\n",
      "404/404 [==============================] - 2s 5ms/step - loss: 4.2005 - mean_absolute_error: 1.4736 - val_loss: 13.0989 - val_mean_absolute_error: 2.5105\n",
      "Epoch 72/100\n",
      "404/404 [==============================] - 2s 5ms/step - loss: 2.6567 - mean_absolute_error: 1.2107 - val_loss: 13.5201 - val_mean_absolute_error: 2.3041\n",
      "Epoch 73/100\n",
      "404/404 [==============================] - 2s 5ms/step - loss: 3.0456 - mean_absolute_error: 1.2317 - val_loss: 14.0620 - val_mean_absolute_error: 2.4096\n",
      "Epoch 74/100\n",
      "404/404 [==============================] - 2s 5ms/step - loss: 2.9682 - mean_absolute_error: 1.2969 - val_loss: 15.1088 - val_mean_absolute_error: 2.5765\n",
      "Epoch 75/100\n",
      "404/404 [==============================] - 2s 5ms/step - loss: 2.9855 - mean_absolute_error: 1.2995 - val_loss: 15.0757 - val_mean_absolute_error: 2.7231\n",
      "Epoch 76/100\n",
      "404/404 [==============================] - 2s 5ms/step - loss: 3.1681 - mean_absolute_error: 1.3215 - val_loss: 13.6759 - val_mean_absolute_error: 2.2913\n",
      "Epoch 77/100\n",
      "404/404 [==============================] - 2s 5ms/step - loss: 2.5878 - mean_absolute_error: 1.2160 - val_loss: 16.1222 - val_mean_absolute_error: 2.8696\n",
      "Epoch 78/100\n",
      "404/404 [==============================] - 2s 5ms/step - loss: 3.2083 - mean_absolute_error: 1.3342 - val_loss: 13.6698 - val_mean_absolute_error: 2.3422\n",
      "Epoch 79/100\n",
      "404/404 [==============================] - 2s 5ms/step - loss: 3.2354 - mean_absolute_error: 1.3255 - val_loss: 13.4134 - val_mean_absolute_error: 2.2777\n",
      "Epoch 80/100\n",
      "404/404 [==============================] - 2s 5ms/step - loss: 3.4226 - mean_absolute_error: 1.3346 - val_loss: 12.3600 - val_mean_absolute_error: 2.1644\n",
      "Epoch 81/100\n",
      "404/404 [==============================] - 2s 5ms/step - loss: 2.8817 - mean_absolute_error: 1.2387 - val_loss: 12.7859 - val_mean_absolute_error: 2.2175\n",
      "Epoch 82/100\n",
      "404/404 [==============================] - 2s 5ms/step - loss: 2.5296 - mean_absolute_error: 1.1957 - val_loss: 14.9532 - val_mean_absolute_error: 2.4238\n",
      "Epoch 83/100\n",
      "404/404 [==============================] - 2s 5ms/step - loss: 3.0788 - mean_absolute_error: 1.3176 - val_loss: 15.0676 - val_mean_absolute_error: 2.5098\n",
      "Epoch 84/100\n",
      "404/404 [==============================] - 2s 5ms/step - loss: 2.6789 - mean_absolute_error: 1.2172 - val_loss: 13.4689 - val_mean_absolute_error: 2.3168\n",
      "Epoch 85/100\n",
      "404/404 [==============================] - 2s 5ms/step - loss: 3.0194 - mean_absolute_error: 1.2982 - val_loss: 16.0038 - val_mean_absolute_error: 2.4476\n",
      "Epoch 86/100\n",
      "404/404 [==============================] - 2s 5ms/step - loss: 2.9656 - mean_absolute_error: 1.2579 - val_loss: 17.2666 - val_mean_absolute_error: 2.6856\n",
      "Epoch 87/100\n",
      "404/404 [==============================] - 2s 5ms/step - loss: 3.1723 - mean_absolute_error: 1.2912 - val_loss: 16.0725 - val_mean_absolute_error: 2.5240\n",
      "Epoch 88/100\n",
      "404/404 [==============================] - 2s 5ms/step - loss: 2.6707 - mean_absolute_error: 1.2393 - val_loss: 12.7450 - val_mean_absolute_error: 2.2335\n",
      "Epoch 89/100\n",
      "404/404 [==============================] - 2s 5ms/step - loss: 2.7706 - mean_absolute_error: 1.2109 - val_loss: 13.2759 - val_mean_absolute_error: 2.2863\n",
      "Epoch 90/100\n",
      "404/404 [==============================] - 2s 5ms/step - loss: 2.5658 - mean_absolute_error: 1.2022 - val_loss: 18.7069 - val_mean_absolute_error: 3.1390\n",
      "Epoch 91/100\n",
      "404/404 [==============================] - 2s 5ms/step - loss: 3.0523 - mean_absolute_error: 1.2797 - val_loss: 11.7212 - val_mean_absolute_error: 2.2531\n",
      "Epoch 92/100\n",
      "404/404 [==============================] - 2s 5ms/step - loss: 3.2863 - mean_absolute_error: 1.3101 - val_loss: 19.3423 - val_mean_absolute_error: 2.7454\n",
      "Epoch 93/100\n",
      "404/404 [==============================] - 2s 5ms/step - loss: 3.0115 - mean_absolute_error: 1.2683 - val_loss: 12.7958 - val_mean_absolute_error: 2.2303\n",
      "Epoch 94/100\n",
      "404/404 [==============================] - 2s 5ms/step - loss: 2.6975 - mean_absolute_error: 1.1926 - val_loss: 13.1408 - val_mean_absolute_error: 2.2229\n",
      "Epoch 95/100\n",
      "404/404 [==============================] - 2s 5ms/step - loss: 2.4255 - mean_absolute_error: 1.1423 - val_loss: 14.7262 - val_mean_absolute_error: 2.5140\n",
      "Epoch 96/100\n",
      "404/404 [==============================] - 3s 8ms/step - loss: 2.5119 - mean_absolute_error: 1.2122 - val_loss: 13.0792 - val_mean_absolute_error: 2.4516\n",
      "Epoch 97/100\n",
      "404/404 [==============================] - 2s 6ms/step - loss: 2.3488 - mean_absolute_error: 1.1316 - val_loss: 12.1810 - val_mean_absolute_error: 2.3173\n",
      "Epoch 98/100\n",
      "404/404 [==============================] - 2s 5ms/step - loss: 2.5773 - mean_absolute_error: 1.1943 - val_loss: 12.9896 - val_mean_absolute_error: 2.3623\n",
      "Epoch 99/100\n"
     ]
    },
    {
     "name": "stdout",
     "output_type": "stream",
     "text": [
      "404/404 [==============================] - 2s 5ms/step - loss: 2.0067 - mean_absolute_error: 1.0568 - val_loss: 13.7487 - val_mean_absolute_error: 2.4641\n",
      "Epoch 100/100\n",
      "404/404 [==============================] - 2s 5ms/step - loss: 3.2276 - mean_absolute_error: 1.3304 - val_loss: 11.0105 - val_mean_absolute_error: 2.2949\n",
      "CPU times: user 11min 54s, sys: 1min 48s, total: 13min 43s\n",
      "Wall time: 3min 30s\n"
     ]
    }
   ],
   "source": [
    "%%time\n",
    "\n",
    "model = keras.models.Sequential()\n",
    "model.add(keras.layers.Dense(512, activation=tf.nn.relu, input_shape=(train_x.shape[1],)))\n",
    "model.add(keras.layers.Dense(512, activation=tf.nn.relu))\n",
    "model.add(keras.layers.Dense(1))\n",
    "\n",
    "model.compile(optimizer='adam', loss='mean_squared_error', metrics=['mae'])\n",
    "\n",
    "fit_result = model.fit(train_x, train_y, epochs=100, batch_size=1, validation_data=(test_x, test_y))\n"
   ]
  },
  {
   "cell_type": "code",
   "execution_count": 14,
   "metadata": {},
   "outputs": [],
   "source": [
    "history = fit_result.history"
   ]
  },
  {
   "cell_type": "code",
   "execution_count": 15,
   "metadata": {},
   "outputs": [
    {
     "data": {
      "text/plain": [
       "<matplotlib.legend.Legend at 0x7f2e5869c4e0>"
      ]
     },
     "execution_count": 15,
     "metadata": {},
     "output_type": "execute_result"
    },
    {
     "data": {
      "image/png": "[encoded data removed]",
      "text/plain": [
       "<matplotlib.figure.Figure at 0x7f2e58739048>"
      ]
     },
     "metadata": {},
     "output_type": "display_data"
    }
   ],
   "source": [
    "plt.plot(fit_result.epoch, history['mean_absolute_error'], 'b', label='Training MAE')\n",
    "plt.plot(fit_result.epoch, history['val_mean_absolute_error'], 'r', label='Validation MAE')\n",
    "plt.title('Epoch vs MAE')\n",
    "plt.xlabel('Epochs')\n",
    "plt.ylabel('Mean Absolute Error')\n",
    "plt.legend()"
   ]
  },
  {
   "cell_type": "markdown",
   "metadata": {},
   "source": [
    "The plot says that although the training MAE goes down almost monotonously, the test MAE remains more or less the same after about 60 epochs. This hints that the model has been overfitted. \n",
    "This is confirmed by the Epochs vs Loss plot below:"
   ]
  },
  {
   "cell_type": "code",
   "execution_count": 16,
   "metadata": {},
   "outputs": [
    {
     "data": {
      "text/plain": [
       "<matplotlib.legend.Legend at 0x7f2e58610278>"
      ]
     },
     "execution_count": 16,
     "metadata": {},
     "output_type": "execute_result"
    },
    {
     "data": {
      "image/png": "[encoded data removed]",
      "text/plain": [
       "<matplotlib.figure.Figure at 0x7f2e586471d0>"
      ]
     },
     "metadata": {},
     "output_type": "display_data"
    }
   ],
   "source": [
    "plt.plot(fit_result.epoch, history['loss'], 'b', label='Training loss')\n",
    "plt.plot(fit_result.epoch, history['val_loss'], 'r', label='Validation loss')\n",
    "plt.title('Loss')\n",
    "plt.xlabel('Epochs')\n",
    "plt.ylabel('Loss')\n",
    "plt.legend()"
   ]
  },
  {
   "cell_type": "markdown",
   "metadata": {},
   "source": [
    "d) Once you have trained the network, explore the correlations which this network predicts:"
   ]
  },
  {
   "cell_type": "code",
   "execution_count": 50,
   "metadata": {},
   "outputs": [
    {
     "name": "stdout",
     "output_type": "stream",
     "text": [
      "(102, 13)\n",
      "CRIM    ZN      INDUS   CHAS    NOX     RM      AGE     DIS     RAD     TAX     PTRATIO BLACK   LSTAT   MEDV    \n",
      "-0.2722 -0.4836 -0.4358 -0.2568 -0.1652 -0.1764 0.8131  0.1167  -0.6262 -0.5952 1.149   0.4481  0.8252   15.2    \n",
      "-0.4034 2.992   -1.334  -0.2568 -1.215  1.894   -1.91   1.248   -0.8565 -0.3484 -1.718  0.4319  -1.329   42.3    \n",
      "0.1249  -0.4836 1.028   -0.2568 0.6286  -1.83   1.11    -1.187  1.676   1.565   0.7845  0.2206  -1.309   50.0    \n",
      "-0.4015 -0.4836 -0.8694 -0.2568 -0.3616 -0.3246 -1.237  1.107   -0.5111 -1.095  0.7845  0.4481  -0.6529  21.1    \n",
      "-0.005634-0.4836 1.028   -0.2568 1.329   0.1536  0.6948  -0.5786 1.676   1.565   0.7845  0.3899  0.2635   17.7    \n",
      "-0.375  -0.4836 -0.5475 -0.2568 -0.5494 -0.7887 0.1895  0.4837  -0.5111 -0.7155 0.5115  0.3867  -0.1381  18.5    \n",
      "0.5896  -0.4836 1.028   -0.2568 1.218   -1.031  1.11    -1.065  1.676   1.565   0.7845  0.4481  1.499    11.3    \n",
      "0.03817 -0.4836 1.246   -0.2568 2.677   -1.127  1.11    -1.148  -0.5111 -0.01744-1.718  0.4481  1.888    15.6    \n",
      "-0.1723 -0.4836 1.246   -0.2568 2.677   -0.9015 1.11    -1.097  -0.5111 -0.01744-1.718  -1.974  0.5395   15.6    \n",
      "-0.2293 -0.4836 1.585   -0.2568 0.5689  -1.761  1.11    -1.135  -0.6262 0.1872  1.24    0.4481  2.991    14.4    \n",
      "[2.25092074 0.85606329 0.78447637 3.89358447 0.42945904 0.44807713\n",
      " 1.83331764 0.81887301 2.13815109 1.67588577 1.10299743 1.14850044\n",
      " 1.58544339 2.20609294 1.67588577 2.12813934 0.76294759 1.05209286\n",
      " 1.67588577 3.89358447 1.6795364  1.67588577 0.32944629 2.07852649\n",
      " 2.88646905 1.67588577 3.89358447 4.13583229 1.67588577 1.36002788\n",
      " 0.40977706 1.67588577 3.89358447 0.76294759 1.67588577 2.65668643\n",
      " 2.67733525 1.24588095 2.44537425 2.88646905 2.70386539 0.50488639\n",
      " 1.67588577 2.00155318 0.95281645 0.34392222 0.90654439 0.44807713\n",
      " 1.67588577 0.4132879  3.30772962 1.27224371 1.78580836 1.14850044\n",
      " 1.41205707 0.51193948 1.67588577 2.86344141 3.89358447 0.60503472\n",
      " 1.67588577 1.67588577 1.67588577 0.44807713 0.51145832 2.88646905\n",
      " 1.67588577 1.76403232 2.44537425 2.30797686 3.89358447 2.5479252\n",
      " 1.67588577 2.44537425 0.94867045 1.226231   1.36002788 0.33009164\n",
      " 0.98872872 2.46760514 0.25072537 1.76739042 2.07852649 1.67588577\n",
      " 0.44297046 1.09001759 1.67588577 3.89358447 1.14850044 1.67588577\n",
      " 0.96125104 3.43740568 1.28018374 2.80983788 0.76867215 2.67733525\n",
      " 1.50360466 3.89358447 0.42701209 3.89358447 3.89358447 1.24588095]\n"
     ]
    }
   ],
   "source": [
    "print(test_x.shape)\n",
    "printFirstN(2)\n",
    "print((test_x.max(axis=1)))"
   ]
  },
  {
   "cell_type": "code",
   "execution_count": 36,
   "metadata": {},
   "outputs": [
    {
     "name": "stdout",
     "output_type": "stream",
     "text": [
      "[[7.8296323]]\n",
      "7.2\n"
     ]
    }
   ],
   "source": [
    "\n",
    "print(model.predict(np.reshape(test_x[0], (1,test_x[0].shape[0]))))\n",
    "print(test_y[0])"
   ]
  },
  {
   "cell_type": "code",
   "execution_count": 39,
   "metadata": {},
   "outputs": [
    {
     "ename": "ValueError",
     "evalue": "setting an array element with a sequence.",
     "output_type": "error",
     "traceback": [
      "\u001b[0;31m---------------------------------------------------------------------------\u001b[0m",
      "\u001b[0;31mValueError\u001b[0m                                Traceback (most recent call last)",
      "\u001b[0;32m<ipython-input-39-7c5456fa23c1>\u001b[0m in \u001b[0;36m<module>\u001b[0;34m()\u001b[0m\n\u001b[1;32m      7\u001b[0m     \u001b[0;32mfor\u001b[0m \u001b[0mi\u001b[0m \u001b[0;32min\u001b[0m \u001b[0mrange\u001b[0m\u001b[0;34m(\u001b[0m\u001b[0mlen\u001b[0m\u001b[0;34m(\u001b[0m\u001b[0mtest_x\u001b[0m\u001b[0;34m)\u001b[0m\u001b[0;34m)\u001b[0m\u001b[0;34m:\u001b[0m\u001b[0;34m\u001b[0m\u001b[0;34m\u001b[0m\u001b[0m\n\u001b[1;32m      8\u001b[0m         \u001b[0mdelta\u001b[0m \u001b[0;34m=\u001b[0m \u001b[0;34m(\u001b[0m\u001b[0mtest_x\u001b[0m\u001b[0;34m.\u001b[0m\u001b[0mmax\u001b[0m\u001b[0;34m(\u001b[0m\u001b[0maxis\u001b[0m\u001b[0;34m=\u001b[0m\u001b[0;36m0\u001b[0m\u001b[0;34m)\u001b[0m \u001b[0;34m-\u001b[0m \u001b[0mtest_x\u001b[0m\u001b[0;34m[\u001b[0m\u001b[0mi\u001b[0m\u001b[0;34m]\u001b[0m\u001b[0;34m[\u001b[0m\u001b[0mj\u001b[0m\u001b[0;34m]\u001b[0m\u001b[0;34m)\u001b[0m \u001b[0;34m*\u001b[0m \u001b[0;36m0.75\u001b[0m\u001b[0;34m;\u001b[0m\u001b[0;34m\u001b[0m\u001b[0;34m\u001b[0m\u001b[0m\n\u001b[0;32m----> 9\u001b[0;31m         \u001b[0mtest_x_copy\u001b[0m\u001b[0;34m[\u001b[0m\u001b[0mi\u001b[0m\u001b[0;34m]\u001b[0m\u001b[0;34m[\u001b[0m\u001b[0mj\u001b[0m\u001b[0;34m]\u001b[0m \u001b[0;34m+=\u001b[0m \u001b[0mdelta\u001b[0m\u001b[0;34m;\u001b[0m\u001b[0;34m\u001b[0m\u001b[0;34m\u001b[0m\u001b[0m\n\u001b[0m\u001b[1;32m     10\u001b[0m \u001b[0;34m\u001b[0m\u001b[0m\n\u001b[1;32m     11\u001b[0m     \u001b[0;31m# Now make the prediction again with the modified data\u001b[0m\u001b[0;34m\u001b[0m\u001b[0;34m\u001b[0m\u001b[0;34m\u001b[0m\u001b[0m\n",
      "\u001b[0;31mValueError\u001b[0m: setting an array element with a sequence."
     ]
    }
   ],
   "source": [
    "original_predictions = model.predict(test_x)\n",
    "for j in range(len(var_names)):\n",
    "    # Make a copy of the original so that its column can be modified\n",
    "    test_x_copy = np.copy(test_x)\n",
    "    \n",
    "    # change each column by a measure delta\n",
    "    for i in range(len(test_x)):\n",
    "        delta = (test_x.max(axis=1) - test_x[i][j]) * 0.75;\n",
    "        test_x_copy[i][j] += delta;  \n",
    "        \n",
    "    # Now make the prediction again with the modified data\n",
    "    new_predictions = model.predict(test_x_copy)\n",
    "    \n",
    "# Get the difference between the original and new predictions\n",
    "difference = new_predictions - original_predictions\n",
    "\n",
    "# Extract the number of positive changes\n",
    "num_positive_changes = np.sum(difference > 0, axis=0)"
   ]
  },
  {
   "cell_type": "code",
   "execution_count": 51,
   "metadata": {},
   "outputs": [
    {
     "name": "stdout",
     "output_type": "stream",
     "text": [
      "Once deleted, variables cannot be recovered. Proceed (y/[n])? y\n"
     ]
    }
   ],
   "source": [
    "%reset"
   ]
  },
  {
   "cell_type": "code",
   "execution_count": null,
   "metadata": {},
   "outputs": [],
   "source": []
  }
 ],
 "metadata": {
  "kernelspec": {
   "display_name": "Python (tensorflow)",
   "language": "python",
   "name": "tensorflow"
  },
  "language_info": {
   "codemirror_mode": {
    "name": "ipython",
    "version": 3
   },
   "file_extension": ".py",
   "mimetype": "text/x-python",
   "name": "python",
   "nbconvert_exporter": "python",
   "pygments_lexer": "ipython3",
   "version": "3.6.7"
  }
 },
 "nbformat": 4,
 "nbformat_minor": 2
}
